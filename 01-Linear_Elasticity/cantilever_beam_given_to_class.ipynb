{
 "cells": [
  {
   "cell_type": "markdown",
   "id": "9a4aef0c-b5ef-4ff9-99d8-8c7dcca88fa9",
   "metadata": {
    "tags": []
   },
   "source": [
    "# FEniCS simulation of a cantilever beam"
   ]
  },
  {
   "cell_type": "markdown",
   "id": "514e520c-14a0-4a80-9f70-ecc09c2e2593",
   "metadata": {},
   "source": [
    "The aim of this notebook is to setup a very simple FEniCS simulation. The framework is linear, plane strain elasticity. We model a cantilever beam ($L$: total length; $d$: depth), subjected to its own weight ($\\rho$: mass density per unit volume; $g$: gravity).\n",
    "\n",
    "The beam is homogenous and isotropic ($E$: Young modulus; $\\nu$: Poisson ratio) and clamped on the left end. Hooke's law reads\n",
    "\n",
    "\\begin{equation}\n",
    "\\sigma_{ij} = \\lambda\\varepsilon_{kk}\\delta_{ij}+2\\mu\\varepsilon_{ij},\n",
    "\\end{equation}\n",
    "\n",
    "where indices $i, j, k$ are restricted to $\\{1, 2\\}$ and $\\lambda$, $\\mu$ are the Lamé coefficients :\n",
    "\n",
    "\\begin{equation*}\n",
    "\\mu=\\frac{E}{2\\bigl(1+\\nu\\bigr)}\n",
    "\\quad\\text{and}\\quad\n",
    "\\lambda=\\frac{2\\mu\\nu}{1-2\\nu}.\n",
    "\\end{equation*}\n",
    "\n",
    "**Question:** how does Hooke's law read in *plane stress* elasticity?\n",
    "\n",
    "The variational formulation of the problem is the following:\n",
    "\n",
    "Find $u\\in \\mathcal{C}\\equiv\\{u: H^1(\\Omega), \\; u(x_1=0,x_2)=0\\}$ such that \n",
    "$\\forall v\\in \\mathcal{C}_0\\equiv \\mathcal{C}$\n",
    "\n",
    "\n",
    "\\begin{equation}\n",
    "\\int_\\Omega \\sigma(\\varepsilon(u)):\\varepsilon(v)\\,\\mathrm{d}x\\,\\mathrm{d}y =\n",
    "-\\int_{\\Omega}\\rho g\\,e_y\\cdot v\\,\\mathrm{d} x\\,\\mathrm{d} y,\n",
    "\\end{equation}\n",
    "\n",
    "where $\\sigma(\\varepsilon)$ is the constitutive equation and $\\varepsilon(u)=\\mathrm{sym} (\\nabla u)$  \n",
    "\n",
    "Remark: we work with only one unknown vector field, the displacement $\\{u_x(x_1,x_2),u_y(x_1,x_2)\\}$"
   ]
  },
  {
   "cell_type": "markdown",
   "id": "5c4eff4e-9f20-4d71-ba30-62bfccaf52bd",
   "metadata": {},
   "source": [
    "![image of beam](cantilever_beam.png \"Cantilever beam\")"
   ]
  },
  {
   "cell_type": "code",
   "execution_count": 1,
   "id": "1ea07659-17a0-4e1b-a75a-a41a043ba404",
   "metadata": {},
   "outputs": [],
   "source": [
    "import dolfinx # FEM in python\n",
    "#import matplotlib.pyplot as plt\n",
    "import ufl # variational formulations\n",
    "import numpy as np\n",
    "#from mpi4py import MPI\n",
    "import mpi4py\n",
    "from petsc4py.PETSc import ScalarType"
   ]
  },
  {
   "cell_type": "markdown",
   "id": "6c8d02f9-666d-4207-bab3-5f959c6e6bfc",
   "metadata": {},
   "source": [
    "This tutorial\n",
    "\n",
    "https://jorgensd.github.io/dolfinx-tutorial/chapter2/linearelasticity_code.html\n",
    "\n",
    "is in 3D. Please adapt it in the present 2D case."
   ]
  },
  {
   "cell_type": "markdown",
   "id": "24850c2b-90ba-49f3-9b39-747230209e03",
   "metadata": {
    "tags": []
   },
   "source": [
    "## 1) Start with defining the mesh"
   ]
  },
  {
   "cell_type": "code",
   "execution_count": 2,
   "id": "996c8120-426e-4bb0-881a-7481644e8c41",
   "metadata": {},
   "outputs": [],
   "source": [
    "# geometry and mesh \n",
    "L = 1. # total length\n",
    "d = L/10. # thickness\n",
    "h = d/6. # size of a cell\n"
   ]
  },
  {
   "cell_type": "markdown",
   "id": "980cf4ae-799e-458d-9762-ab4f02aa83a4",
   "metadata": {},
   "source": [
    "use \n",
    "```\n",
    "dolfinx.mesh.create_rectangle()\n",
    "\n",
    "\n",
    "with comm=mpi4py.MPI.COMM_WORLD\n",
    "```\n",
    "call your mesh : my_domain"
   ]
  },
  {
   "cell_type": "code",
   "execution_count": null,
   "id": "b91b3772-6e2b-4016-aacc-1b8db03c0f06",
   "metadata": {},
   "outputs": [],
   "source": [
    "# Now export the mesh to see it on Paraview\n",
    "with dolfinx.io.XDMFFile(my_domain.comm, \"out/mesh.xdmf\", \"w\") as file:\n",
    "    file.write_mesh(my_domain)"
   ]
  },
  {
   "cell_type": "markdown",
   "id": "93521772-0199-47e5-a3a0-c15b21c735b0",
   "metadata": {
    "tags": []
   },
   "source": [
    "## 2) Choose an element (Lagrange of degree 1)"
   ]
  },
  {
   "cell_type": "markdown",
   "id": "ea7d6010-1177-4e13-aa56-7fd64a6fae68",
   "metadata": {},
   "source": [
    "use\n",
    "\n",
    "```\n",
    "FunctionSpace( )\n",
    "```\n",
    "\n",
    "or ? \n",
    "\n",
    "```\n",
    "VectorFunctionSpace( )\n",
    "```"
   ]
  },
  {
   "cell_type": "markdown",
   "id": "49143f32-8169-4f59-a71f-9a589d31c997",
   "metadata": {
    "tags": []
   },
   "source": [
    "## 3) Define the stress\n",
    "\n",
    "$u_i$ is  the displacement vector (note: $u=u(x_1,x_2)$)\n",
    "\n",
    "and \n",
    "\n",
    "$\\epsilon_{ij} = \\frac12\\bigl(\\partial_i u_j+\\partial_j u_i\\bigr)$ is the stress tensor."
   ]
  },
  {
   "cell_type": "code",
   "execution_count": 3,
   "id": "1549c27d-8a1a-4c29-86de-c58c85283d22",
   "metadata": {},
   "outputs": [],
   "source": [
    "# use def to define the fonction epsilon = epsilon(u), just like\n",
    "def fonction(x):\n",
    "    return x**2"
   ]
  },
  {
   "cell_type": "markdown",
   "id": "2a09c9aa-e053-4698-976c-b4107a151027",
   "metadata": {},
   "source": [
    "## 4) Write down Hooke's law"
   ]
  },
  {
   "cell_type": "code",
   "execution_count": 4,
   "id": "05236c0a-3696-4a6b-b067-6e0773594b2d",
   "metadata": {},
   "outputs": [],
   "source": [
    "# here we use the values\n",
    "E = 1.0\n",
    "nu = 0.3\n",
    "\n",
    "# Hook's law is written as the top of this notebook\n",
    "def sigma(epsilon):\n",
    "    return XXXXXXXXX"
   ]
  },
  {
   "cell_type": "markdown",
   "id": "99795e69-ee8a-4988-afbe-40a7ccd89d67",
   "metadata": {},
   "source": [
    "## 5) Name `u` the `TrialFunction` and `u_bar` the `TestFunction`"
   ]
  },
  {
   "cell_type": "markdown",
   "id": "cb0bf1a9-9ad6-494d-8a37-87d2745b3839",
   "metadata": {},
   "source": [
    "## 6) Introduce the bilinear form\n",
    "\\begin{equation}\n",
    "\\int_\\Omega \\sigma(\\varepsilon(u)):\\varepsilon(\\bar{u})\\,\\mathrm{d}x\\,\\mathrm{d}y\n",
    "\\end{equation}\n",
    "\n",
    "What is the difference between `dolfin.dot( )` and `dolfin.inner( )` ?"
   ]
  },
  {
   "cell_type": "markdown",
   "id": "fa70af26-fa46-4aa6-8aec-157daef3e112",
   "metadata": {},
   "source": [
    "## 7) Introduce the linear form\n",
    "\n",
    "\\begin{equation}\n",
    "-\\int_{\\Omega}\\rho g\\,e_y\\cdot \\bar{v}\\,\\mathrm{d} x\\,\\mathrm{d} y.\n",
    "\\end{equation}"
   ]
  },
  {
   "cell_type": "code",
   "execution_count": 35,
   "id": "fe5bf38c-7c9d-4186-a555-5530556fc308",
   "metadata": {},
   "outputs": [],
   "source": [
    "# here we use the value\n",
    "g=0.01"
   ]
  },
  {
   "cell_type": "markdown",
   "id": "17d06811-8dcc-4c1f-a38a-63a50bc398a1",
   "metadata": {
    "tags": []
   },
   "source": [
    "## 8)  Boundary conditions\n",
    "\n",
    "Dirichelet Boundary Condition: $u(0,x_2)=0 \\quad  \\forall x_2 \\in [-\\frac{d}{2},\\frac{d}{2}]$\n",
    "\n",
    "As $x_1=0$ is not well defined in our mesh, we write \n",
    "\n",
    "$u(x_1,x_2)=0 \\quad \\forall x_1 \\simeq 0  \\text{ and } \\forall x_2 \\in [-\\frac{d}{2},\\frac{d}{2}]$\n"
   ]
  },
  {
   "cell_type": "code",
   "execution_count": 36,
   "id": "6b8732a5-b653-4eed-af92-575dc6061fe2",
   "metadata": {},
   "outputs": [],
   "source": [
    "def clamped_boundary(x):\n",
    "    return np.isclose(x[0], 0)"
   ]
  },
  {
   "cell_type": "code",
   "execution_count": 37,
   "id": "eb0f066f-a649-4f3e-adc0-ed806b56a9bc",
   "metadata": {},
   "outputs": [],
   "source": [
    "# the mesh is 2D (x,y), so the boundary is 1D\n",
    "facets_dim =1"
   ]
  },
  {
   "cell_type": "code",
   "execution_count": 38,
   "id": "fd1c29aa-af60-4939-8d1a-c5bd014e1809",
   "metadata": {},
   "outputs": [],
   "source": [
    "# this finds all the facets of the elements that are at the boundary\n",
    "boundary_facets = "
   ]
  },
  {
   "cell_type": "code",
   "execution_count": null,
   "id": "496abbe1-d08b-4c48-9550-ecadb2055ac0",
   "metadata": {},
   "outputs": [],
   "source": [
    "# this gives the label of all the facets on the x_1 = 0 edge\n",
    "print(boundary_facets)"
   ]
  },
  {
   "cell_type": "code",
   "execution_count": 40,
   "id": "67071be4-baa5-45d1-9ae4-cf7a8e5ba394",
   "metadata": {},
   "outputs": [],
   "source": [
    "# this finds the label of the degree of freedom for the nodes on the boundary facets\n",
    "boundary_dofs = "
   ]
  },
  {
   "cell_type": "code",
   "execution_count": 41,
   "id": "0653a953-cdac-48a6-9f9f-fa388af601dc",
   "metadata": {},
   "outputs": [
    {
     "name": "stdout",
     "output_type": "stream",
     "text": [
      "[405 406 412 417 421 424 426]\n"
     ]
    }
   ],
   "source": [
    "print(boundary_dofs)"
   ]
  },
  {
   "cell_type": "code",
   "execution_count": 42,
   "id": "4c87e605-2590-4985-a543-6120f08d1953",
   "metadata": {},
   "outputs": [],
   "source": [
    "# the Dirichlet condition\n",
    "u_D = "
   ]
  },
  {
   "cell_type": "code",
   "execution_count": 43,
   "id": "d15d3af9-8959-4c4b-ac92-c775fe2f68b4",
   "metadata": {},
   "outputs": [],
   "source": [
    "bc = dolfinx.fem.dirichletbc(u_D, boundary_dofs, V)"
   ]
  },
  {
   "cell_type": "markdown",
   "id": "8faca2ac-b7d2-49ba-9d0d-8db4bae13e41",
   "metadata": {},
   "source": [
    "## 9) Solving the discretized problem"
   ]
  },
  {
   "cell_type": "code",
   "execution_count": 44,
   "id": "8816f74c-de37-49a0-ba90-dd00bd314705",
   "metadata": {},
   "outputs": [],
   "source": [
    "problem = \n",
    "# the solution is 'u_solution'\n",
    "u_solution = problem.solve()"
   ]
  },
  {
   "cell_type": "markdown",
   "id": "f93d22b3-2ce8-45bc-a359-f4705875822f",
   "metadata": {},
   "source": [
    "## 10) Ploting the solution"
   ]
  },
  {
   "cell_type": "code",
   "execution_count": 48,
   "id": "5ece5c6c-760f-4237-8436-8cd82d5b93f8",
   "metadata": {},
   "outputs": [
    {
     "name": "stdout",
     "output_type": "stream",
     "text": [
      "Solution vector norm: 13.184282766916395\n",
      "for E = 1.0, nu = 0.3, g=0.01, L=1.0, d=0.1, this norm should approxymatly be equal to 13.2\n"
     ]
    }
   ],
   "source": [
    "unorm = u_solution.x.norm()\n",
    "print(\"Solution vector norm:\", unorm)\n",
    "print('for E = 1.0, nu = 0.3, g=0.01, L=1.0, d=0.1, this norm should approxymatly be equal to 13.2')"
   ]
  },
  {
   "cell_type": "code",
   "execution_count": 46,
   "id": "62f2f963-7229-4d6c-ac36-5197eaa8b61d",
   "metadata": {},
   "outputs": [],
   "source": [
    "# To have a name in Paraview\n",
    "u_solution.name = \"displacement_vector\""
   ]
  },
  {
   "cell_type": "code",
   "execution_count": 47,
   "id": "29cbeedb-1e20-470b-ab01-478f80608212",
   "metadata": {},
   "outputs": [],
   "source": [
    "# We export the mesh+solution to see it on Paraview\n",
    "with dolfinx.io.XDMFFile(my_domain.comm, \"out/solution.xdmf\", \"w\") as file:\n",
    "    file.write_mesh(my_domain)\n",
    "    file.write_function(u_solution)"
   ]
  },
  {
   "cell_type": "markdown",
   "id": "fcaa86a4-1c6c-41ec-be95-88d5c7a3673e",
   "metadata": {},
   "source": [
    "## 11) Ploting the solution using matplotlib"
   ]
  },
  {
   "cell_type": "code",
   "execution_count": null,
   "id": "f2bd4d48-44df-4d5c-aa3e-c4fb017162d7",
   "metadata": {},
   "outputs": [],
   "source": [
    "import extract"
   ]
  },
  {
   "cell_type": "code",
   "execution_count": null,
   "id": "e0e1f6e1-39a5-45b3-bad3-5ea41a6376c3",
   "metadata": {},
   "outputs": [],
   "source": [
    "# here is the value of ux and uy at the point x=0.5, y=0.01\n",
    "extract.solution(my_domain, u_solution, 0.5, 0.01)\n",
    "# should be [0.016, -0.48]"
   ]
  },
  {
   "cell_type": "code",
   "execution_count": null,
   "id": "d18e5902-f33b-45b3-8a10-5a1e96409447",
   "metadata": {},
   "outputs": [],
   "source": [
    "# We want to plot u_y(x,0) for x in (0;1)"
   ]
  },
  {
   "cell_type": "code",
   "execution_count": null,
   "id": "306ee0cc-3b6a-4862-9ef4-5fb1c0407065",
   "metadata": {},
   "outputs": [],
   "source": [
    "# we create two lists \n",
    "tol = 0.001 # Avoid hitting the outside of the domain\n",
    "nbr_pts = 20 # number of plot points\n",
    "liste_x = np.linspace(0 + tol, 1 - tol, nbr_pts) # I will plot for x in (0;1)\n",
    "liste_y = 0*liste_x # I will plot for y = 0"
   ]
  },
  {
   "cell_type": "code",
   "execution_count": null,
   "id": "68881a26-4d56-4e7b-a5c3-8aecdee2b746",
   "metadata": {},
   "outputs": [],
   "source": [
    "# Create a list containing the values of uy at these points\n",
    "for i, x_i in enumerate(liste_x):\n",
    "    # blabla\n",
    "    # etc\n",
    "    # ..."
   ]
  },
  {
   "cell_type": "code",
   "execution_count": null,
   "id": "b276f630-956a-4925-80c0-80d89ed664af",
   "metadata": {},
   "outputs": [],
   "source": [
    "# plot it\n",
    "plt.plot(liste_x, ...)"
   ]
  },
  {
   "cell_type": "markdown",
   "id": "038f6439-9f1f-4081-a089-2a0e797afd58",
   "metadata": {},
   "source": [
    "## 12) We compare this u_y value to linear beam theory\n",
    "$$H(x_1)=?= u_{y,fenicsX}(x_1,0)$$"
   ]
  },
  {
   "cell_type": "markdown",
   "id": "97cc3d38-d29b-490b-a51d-ab2d38717c9d",
   "metadata": {},
   "source": [
    "$$ H(x_1) = H_\\text{max} \\, \\left ( - \\frac{1}{3} \\, (x_1-1)^4 - \\frac{4}{3} \\, x_1 + \\frac{1}{3} \\right) $$"
   ]
  },
  {
   "cell_type": "code",
   "execution_count": null,
   "id": "97185870-873d-448c-8b77-ef92c1f26a39",
   "metadata": {},
   "outputs": [],
   "source": [
    "# we introduce the coefficients\n",
    "D=E*d**3/12./(1.-nu**2) # bending rigidity of an elastic plate\n",
    "k=0.5 # unknown coefficient that we want to find (it is not equal to 0.5)\n",
    "# you have to find the correct value for k !\n",
    "Hmax = k*g*d/D # maximum vertical deflection, from linear 'beam' theory "
   ]
  },
  {
   "cell_type": "code",
   "execution_count": null,
   "id": "bc27bd34-7227-41e7-80f9-5e192cf1910c",
   "metadata": {},
   "outputs": [],
   "source": [
    "Hmax"
   ]
  },
  {
   "cell_type": "code",
   "execution_count": null,
   "id": "7f70b15c-a5cc-4b2e-a941-2dd25301eaa0",
   "metadata": {},
   "outputs": [],
   "source": [
    "x = np.linspace(0., L, num=150)\n",
    "\n",
    "plt.plot(liste_x, # here liste fenics u_y #, \"o\", linewidth=2, label=\"FEniCSx\")\n",
    "\n",
    "H_formula = Hmax * (-1./3.*(x-1.)**4 - 4./3.*x + 1/3)\n",
    "plt.plot(x, H_formula, label='Beam theory')\n",
    "plt.xlabel('x',color='red',fontsize=15)\n",
    "plt.ylabel('H(x,0)',color='red',fontsize=15)\n",
    "plt.legend()"
   ]
  },
  {
   "cell_type": "markdown",
   "id": "9a5fa434-8149-4d3f-914b-5eeb7cee878a",
   "metadata": {},
   "source": [
    "## Does this work, why ?"
   ]
  },
  {
   "cell_type": "markdown",
   "id": "655832ce-1f30-4d2c-8000-7a2a0ba147b6",
   "metadata": {},
   "source": [
    "## 14) Using PVista"
   ]
  },
  {
   "cell_type": "code",
   "execution_count": 22,
   "id": "3ebc7c11-004c-4ed6-bd54-5eaa498e4333",
   "metadata": {},
   "outputs": [],
   "source": [
    "import pyvista\n",
    "pyvista.set_jupyter_backend(\"none\")"
   ]
  },
  {
   "cell_type": "code",
   "execution_count": 23,
   "id": "31f6369c-6bb8-468f-87b9-288072120f85",
   "metadata": {},
   "outputs": [],
   "source": [
    "# Create pyvista grid\n",
    "topology, cell_types, geometry = dolfinx.plot.create_vtk_mesh(V)\n",
    "grid = pyvista.UnstructuredGrid(topology, cell_types, geometry)"
   ]
  },
  {
   "cell_type": "code",
   "execution_count": 32,
   "id": "5da7eda2-a3f6-4264-9cb9-fcff28671152",
   "metadata": {},
   "outputs": [],
   "source": [
    "# Create plotter\n",
    "plotter = pyvista.Plotter()"
   ]
  },
  {
   "cell_type": "code",
   "execution_count": null,
   "id": "bd4879c2-7a46-463e-9dff-b4386749b61b",
   "metadata": {},
   "outputs": [],
   "source": [
    "# we first add the grid\n",
    "plotter.add_mesh(grid, show_edges=True, style=\"wireframe\", color=\"k\");\n",
    "# Then we display the scene\n",
    "plotter.show()"
   ]
  },
  {
   "cell_type": "markdown",
   "id": "064bda15-7534-4d6b-8c90-9372f140a059",
   "metadata": {},
   "source": [
    "```\n",
    "Can you add the solution ?\n",
    "```"
   ]
  },
  {
   "cell_type": "code",
   "execution_count": null,
   "id": "bee28f57-8817-43c2-92f3-95adf3433aea",
   "metadata": {},
   "outputs": [],
   "source": []
  }
 ],
 "metadata": {
  "kernelspec": {
   "display_name": "Python 3 (ipykernel)",
   "language": "python",
   "name": "python3"
  },
  "language_info": {
   "codemirror_mode": {
    "name": "ipython",
    "version": 3
   },
   "file_extension": ".py",
   "mimetype": "text/x-python",
   "name": "python",
   "nbconvert_exporter": "python",
   "pygments_lexer": "ipython3",
   "version": "3.9.12"
  }
 },
 "nbformat": 4,
 "nbformat_minor": 5
}
