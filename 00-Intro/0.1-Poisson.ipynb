{
 "cells": [
  {
   "cell_type": "markdown",
   "metadata": {},
   "source": [
    "\n",
    "## Equation and problem definition\n",
    "For a domain $\\Omega \\subset \\mathbb{R}^n$ with boundary $\\partial\n",
    "\\Omega = \\Gamma_{D} \\cup \\Gamma_{N}$, the Poisson equation with\n",
    "particular boundary conditions reads:\n",
    "$$\n",
    "\\begin{align*}\n",
    "- \\nabla^{2} u &= f \\quad {\\rm in} \\ \\Omega, \\\\\n",
    "u &= 0 \\quad {\\rm on} \\ \\Gamma_{D}, \\\\\n",
    "\\nabla u \\cdot n &= g \\quad {\\rm on} \\ \\Gamma_{N}. \\\\\n",
    "\\end{align*}\n",
    "$$\n",
    "where $f$ and $g$ are input data and $n$ denotes the outward directed\n",
    "boundary normal. The variational problem reads: find $u \\in V$ such\n",
    "that\n",
    "$$\n",
    "a(u, v) = L(v) \\quad \\forall \\ v \\in V,\n",
    "$$\n",
    "where $V$ is a suitable function space and\n",
    "$$\n",
    "\\begin{align*}\n",
    "a(u, v) &:= \\int_{\\Omega} \\nabla u \\cdot \\nabla v \\, {\\rm d} x, \\\\\n",
    "L(v)    &:= \\int_{\\Omega} f v \\, {\\rm d} x + \\int_{\\Gamma_{N}} g v \\, {\\rm d} s.\n",
    "\\end{align*}\n",
    "$$\n",
    "The expression $a(u, v)$ is the bilinear form and $L(v)$\n",
    "is the linear form. It is assumed that all functions in $V$\n",
    "satisfy the Dirichlet boundary conditions ($u = 0 \\ {\\rm on} \\\n",
    "\\Gamma_{D}$).\n",
    "In this demo we consider:\n",
    "- $\\Omega = [0,2] \\times [0,1]$ (a rectangle)\n",
    "- $\\Gamma_{D} = \\{(0, y) \\cup (1, y) \\subset \\partial \\Omega\\}$\n",
    "- $\\Gamma_{N} = \\{(x, 0) \\cup (x, 1) \\subset \\partial \\Omega\\}$\n",
    "- $g = \\sin(5x)$\n",
    "- $f = 10\\exp(-((x - 0.5)^2 + (y - 0.5)^2) / 0.02)$"
   ]
  },
  {
   "cell_type": "markdown",
   "metadata": {},
   "source": [
    "# Import the  modules to use in the example"
   ]
  },
  {
   "cell_type": "code",
   "execution_count": 1,
   "metadata": {},
   "outputs": [],
   "source": [
    "import numpy as np\n",
    "import matplotlib.pyplot as plt\n",
    "\n",
    "import ufl\n",
    "from dolfinx import fem, io, mesh, plot, geometry\n",
    "from mpi4py import MPI\n",
    "from petsc4py.PETSc import ScalarType"
   ]
  },
  {
   "cell_type": "markdown",
   "metadata": {},
   "source": []
  },
  {
   "cell_type": "markdown",
   "metadata": {},
   "source": [
    "# Create mesh and define function space\n",
    "See for details about meshing:\n",
    "- https://docs.fenicsproject.org/dolfinx/v0.6.0/python/demos/demo_gmsh.html\n",
    "- https://jorgensd.github.io/dolfinx-tutorial/chapter1/membrane_code.html\n",
    "- https://jorgensd.github.io/dolfinx-tutorial/chapter2/ns_code2.html\n",
    "- https://jorgensd.github.io/dolfinx-tutorial/chapter3/subdomains.html"
   ]
  },
  {
   "cell_type": "code",
   "execution_count": 2,
   "metadata": {},
   "outputs": [],
   "source": [
    "domain = mesh.create_rectangle(comm=MPI.COMM_WORLD,\n",
    "                            points=((0.0, 0.0), (2.0, 1.0)), n=(32, 16),\n",
    "                            cell_type=mesh.CellType.triangle,)\n",
    "V = fem.FunctionSpace(domain, (\"Lagrange\", 1))"
   ]
  },
  {
   "cell_type": "markdown",
   "metadata": {},
   "source": [
    "# Define variational problem"
   ]
  },
  {
   "cell_type": "code",
   "execution_count": 3,
   "metadata": {},
   "outputs": [],
   "source": [
    "u = ufl.TrialFunction(V)\n",
    "v = ufl.TestFunction(V)\n",
    "x = ufl.SpatialCoordinate(domain)\n",
    "f = 10 * ufl.exp(-((x[0] - 0.5) ** 2 + (x[1] - 0.5) ** 2) / 0.02)\n",
    "g = ufl.sin(5 * x[0])\n",
    "a = ufl.inner(ufl.grad(u), ufl.grad(v)) * ufl.dx\n",
    "L = ufl.inner(f, v) * ufl.dx + ufl.inner(g, v) * ufl.ds"
   ]
  },
  {
   "cell_type": "markdown",
   "metadata": {},
   "source": [
    "# Define the boundary conditions"
   ]
  },
  {
   "cell_type": "markdown",
   "metadata": {},
   "source": [
    "We locate the mesh facets (`facets`) that lie on the boundary $\\Gamma_D$ and their corresponding degrees-of-freedom that are associated (`dofs`)\n",
    "\n",
    "See also:\n",
    "- https://jorgensd.github.io/dolfinx-tutorial/chapter3/component_bc.html\n",
    "- https://jorgensd.github.io/dolfinx-tutorial/chapter3/neumann_dirichlet_code.html\n"
   ]
  },
  {
   "cell_type": "code",
   "execution_count": 4,
   "metadata": {},
   "outputs": [],
   "source": [
    "facets = mesh.locate_entities_boundary(domain, dim=1,\n",
    "                                       marker=lambda x: np.logical_or(np.isclose(x[0], 0.0),\n",
    "                                                                      np.isclose(x[0], 2.0)))\n",
    "dofs = fem.locate_dofs_topological(V=V, entity_dim=1, entities=facets)\n",
    "bc = fem.dirichletbc(value=ScalarType(0), dofs=dofs, V=V)\n"
   ]
  },
  {
   "cell_type": "markdown",
   "metadata": {},
   "source": [
    "# Compute solution\n",
    "\n",
    "`FEniCSx` use `PETSc` for linear algebra, linear and nonlinear solvers. See https://petsc.org/release/docs/manual/ for the solver options."
   ]
  },
  {
   "cell_type": "code",
   "execution_count": 5,
   "metadata": {},
   "outputs": [],
   "source": [
    "problem = fem.petsc.LinearProblem(a, L, bcs=[bc], petsc_options={\"ksp_type\": \"preonly\", \"pc_type\": \"lu\"})\n",
    "uh = problem.solve()"
   ]
  },
  {
   "cell_type": "markdown",
   "metadata": {},
   "source": [
    "# Plot and save the solution\n"
   ]
  },
  {
   "cell_type": "markdown",
   "metadata": {},
   "source": [
    "We can save the solution to a file in modern formats, that can be read with `paraview`. \n",
    "See:\n",
    "- Download paraview: https://www.paraview.org/download/\n",
    "- https://jorgensd.github.io/dolfinx-tutorial/chapter1/membrane_paraview.html\n",
    "- Paraview documentatiosn: https://docs.paraview.org/en/latest/"
   ]
  },
  {
   "cell_type": "code",
   "execution_count": 6,
   "metadata": {},
   "outputs": [],
   "source": [
    "with io.XDMFFile(domain.comm, \"output/output.xdmf\", \"w\") as xdmf:\n",
    "    xdmf.write_mesh(domain)\n",
    "    xdmf.write_function(uh)"
   ]
  },
  {
   "cell_type": "markdown",
   "metadata": {},
   "source": [
    "We can also use pyvista for interactive plotting and directly generate figures programmatically, see\n",
    "- https://docs.fenicsproject.org/dolfinx/v0.5.1/python/demos/demo_pyvista.html\n",
    "- https://docs.pyvista.org\n",
    "- https://jorgensd.github.io/dolfinx-tutorial/chapter1/fundamentals_code.html\n",
    "- https://jorgensd.github.io/dolfinx-tutorial/chapter1/membrane_code.html"
   ]
  },
  {
   "cell_type": "code",
   "execution_count": 7,
   "metadata": {},
   "outputs": [
    {
     "data": {
      "application/vnd.jupyter.widget-view+json": {
       "model_id": "51331e449c0745fcab792a26ec89c6a2",
       "version_major": 2,
       "version_minor": 0
      },
      "text/plain": [
       "Widget(value=\"<iframe src='http://localhost:52388/index.html?ui=P_0x179b511e0_0&reconnect=auto' style='width: …"
      ]
     },
     "metadata": {},
     "output_type": "display_data"
    }
   ],
   "source": [
    "from dolfinx.plot import create_vtk_mesh\n",
    "import pyvista\n",
    "#pyvista.set_jupyter_backend(\"pythreejs\")\n",
    "pyvista.set_jupyter_backend(\"trame\")\n",
    "\n",
    "# Extract topology from mesh and create pyvista mesh\n",
    "topology, cell_types, x = create_vtk_mesh(V)\n",
    "grid = pyvista.UnstructuredGrid(topology, cell_types, x)\n",
    "\n",
    "# Set deflection values and add it to plotter\n",
    "grid.point_data[\"u\"] = uh.x.array\n",
    "warped = grid.warp_by_scalar(\"u\", factor=1)\n",
    "\n",
    "plotter = pyvista.Plotter()\n",
    "grid_0 = pyvista.UnstructuredGrid(topology, cell_types, x)\n",
    "plotter.add_mesh(grid_0, show_edges=True)\n",
    "plotter.add_mesh(warped, show_edges=True, show_scalar_bar=True, scalars=\"u\",opacity=0.8)\n",
    "\n",
    "if not pyvista.OFF_SCREEN:\n",
    "    plotter.show()\n",
    "else:\n",
    "    pyvista.start_xvfb()\n",
    "    plotter.screenshot(\"deflection.png\")"
   ]
  },
  {
   "cell_type": "markdown",
   "metadata": {},
   "source": [
    "# Further details and amore advanced features"
   ]
  },
  {
   "cell_type": "markdown",
   "metadata": {},
   "source": [
    "## Making curve plots throughout the domain\n",
    "\n"
   ]
  },
  {
   "cell_type": "markdown",
   "metadata": {},
   "source": [
    "We can evaluate a function on a point by using the  `uh.eval(points, cells)`, which requires the lists of cells where the points lie. To get this information we can use the following utility function, see\n",
    "- https://jorgensd.github.io/dolfinx-tutorial/chapter1/membrane_code.html"
   ]
  },
  {
   "cell_type": "code",
   "execution_count": 8,
   "metadata": {},
   "outputs": [],
   "source": [
    "def find_cells(points,domain):\n",
    "    \"\"\"\n",
    "    Find the cells of the mesh `domains` where the points `points` lie\n",
    "    \"\"\"\n",
    "    bb_tree = geometry.BoundingBoxTree(domain, domain.topology.dim)\n",
    "    cells = []\n",
    "    points_on_proc = []\n",
    "    # Find cells whose bounding-box collide with the the points\n",
    "    cell_candidates = geometry.compute_collisions(bb_tree, points.T)\n",
    "    # Choose one of the cells that contains the point\n",
    "    colliding_cells = geometry.compute_colliding_cells(domain, cell_candidates, points.T)\n",
    "    for i, point in enumerate(points.T):\n",
    "        if len(colliding_cells.links(i))>0:\n",
    "            points_on_proc.append(point)\n",
    "            cells.append(colliding_cells.links(i)[0])\n",
    "    points_on_proc = np.array(points_on_proc, dtype=np.float64)\n",
    "    return points_on_proc, cells\n"
   ]
  },
  {
   "cell_type": "markdown",
   "metadata": {},
   "source": [
    "Defines the list of points, get the correspoding cells, and evaluate the function values"
   ]
  },
  {
   "cell_type": "code",
   "execution_count": 9,
   "metadata": {},
   "outputs": [],
   "source": [
    "\n",
    "tol = 0.001 # Avoid hitting the outside of the domain\n",
    "y = np.linspace(-1 + tol, 1 - tol, 101)\n",
    "points = np.zeros((3, 101))\n",
    "points[0] = .1 * np.ones_like(y)\n",
    "points[1] = y\n",
    "points, cells = find_cells(points,domain)\n",
    "u_values = uh.eval(points, cells)"
   ]
  },
  {
   "cell_type": "markdown",
   "metadata": {},
   "source": [
    "We can then make a plot with matplotlib"
   ]
  },
  {
   "cell_type": "code",
   "execution_count": 10,
   "metadata": {},
   "outputs": [
    {
     "data": {
      "image/png": "[encoded data removed]",
      "text/plain": [
       "<Figure size 640x480 with 1 Axes>"
      ]
     },
     "metadata": {},
     "output_type": "display_data"
    },
    {
     "data": {
      "text/plain": [
       "<Figure size 640x480 with 0 Axes>"
      ]
     },
     "metadata": {},
     "output_type": "display_data"
    }
   ],
   "source": [
    "fig = plt.figure()\n",
    "plt.plot(points[:,1], u_values, \"-o\", linewidth=2, label=\"u\")\n",
    "plt.grid(True)\n",
    "plt.xlabel(\"y\")\n",
    "plt.ylabel(\"u\")\n",
    "plt.title(\"Plot over a line\")\n",
    "plt.legend()\n",
    "plt.show()\n",
    "plt.savefig(f\"output/line_plot.png\")"
   ]
  },
  {
   "cell_type": "markdown",
   "metadata": {},
   "source": [
    "## What is behind `LinearProblem.solve()`\n",
    "\n",
    "See also\n",
    " - https://jorgensd.github.io/dolfinx-tutorial/chapter4/solvers.html"
   ]
  },
  {
   "cell_type": "code",
   "execution_count": 11,
   "metadata": {},
   "outputs": [],
   "source": [
    "# Assemble matrix and vector from bilinear and linear form\n",
    "A = fem.petsc.assemble_matrix(fem.form(a),bcs=[bc])\n",
    "b = fem.petsc.assemble_vector(fem.form(L))\n",
    "fem.apply_lifting(b, [fem.form(a)], bcs=[[bc]])\n",
    "A.assemble()\n",
    "\n",
    "# Create LU linear solver (use petsc4py)\n",
    "from petsc4py import PETSc\n",
    "solver = PETSc.KSP().create(MPI.COMM_WORLD)\n",
    "solver.setType(PETSc.KSP.Type.PREONLY)\n",
    "solver.getPC().setType(PETSc.PC.Type.LU)\n",
    "solver.setOperators(A)\n",
    "\n",
    "# Solve the linear system\n",
    "uh = fem.Function(V)\n",
    "solver.solve(b, uh.vector)\n",
    "uh.x.scatter_forward()"
   ]
  },
  {
   "cell_type": "markdown",
   "metadata": {},
   "source": [
    "We can convert the vector and matrix to numpy (attention to memory for `A`) to inspect them"
   ]
  },
  {
   "cell_type": "code",
   "execution_count": 12,
   "metadata": {},
   "outputs": [
    {
     "name": "stdout",
     "output_type": "stream",
     "text": [
      "[-1.61002180e-02 -3.11453699e-02 -3.40013194e-02  1.65107663e-49\n",
      "  3.08461220e-03 -3.40013194e-02  8.12940360e-46  2.20753710e-48\n",
      "  2.19706542e-02 -3.40013194e-02]\n"
     ]
    },
    {
     "data": {
      "image/png": "[encoded data removed]",
      "text/plain": [
       "<Figure size 640x480 with 1 Axes>"
      ]
     },
     "metadata": {},
     "output_type": "display_data"
    }
   ],
   "source": [
    "\n",
    "plt.spy(A.convert(\"dense\").getDenseArray())\n",
    "print(b.array[0:10])"
   ]
  }
 ],
 "metadata": {
  "kernelspec": {
   "display_name": "Python 3 (ipykernel)",
   "language": "python",
   "name": "python3"
  },
  "language_info": {
   "codemirror_mode": {
    "name": "ipython",
    "version": 3
   },
   "file_extension": ".py",
   "mimetype": "text/x-python",
   "name": "python",
   "nbconvert_exporter": "python",
   "pygments_lexer": "ipython3",
   "version": "3.10.12"
  },
  "vscode": {
   "interpreter": {
    "hash": "d39b9f02f3029832ecae234ec2fa182456444dbf6b139312bec596c8a27da32a"
   }
  }
 },
 "nbformat": 4,
 "nbformat_minor": 4
}
