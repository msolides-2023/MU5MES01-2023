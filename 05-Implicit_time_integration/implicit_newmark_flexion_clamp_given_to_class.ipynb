{
 "cells": [
  {
   "cell_type": "markdown",
   "metadata": {},
   "source": [
    "# Transverse vibrations of a nonlinear beam by Newmark-β time-stepping\n",
    "\n",
    "In this notebook, we present an  implementation of the Newmark-β time-stepping technique, see also [Jérémy Bleyer's code](https://comet-fenics.readthedocs.io/en/latest/demo/elastodynamics/demo_elastodynamics.py.html). We consider a 2D hyperleastic beam of size `L × h` (2D, plane strain), fixed at both `x = 0` and `x = L` ends, and subjected to a volumetric transverse load $f$."
   ]
  },
  {
   "cell_type": "markdown",
   "metadata": {},
   "source": [
    "![shema](setup_flexion_clamp.png)"
   ]
  },
  {
   "cell_type": "markdown",
   "metadata": {},
   "source": [
    "Introduction and elastodynamics equation\n",
    "----------------------------------------\n",
    "\n",
    "The elastodynamics equation writes (see slides on nonlinear elasticity) on the reference configuration $\\Omega_0$:\n",
    "\n",
    "$$\\nabla \\cdot P + f = \\rho \\ddot{u}$$\n",
    "\n",
    "where $P$ is the first Piola-Kirchhoff stress tensor which can be obtained \n",
    "from the elastic potential $\\Psi$ and the gradient of the transformation $F=\\frac{\\partial x}{\\partial X}$ (with $x=X+u$) by\n",
    "\n",
    "$$P = \\frac{\\partial \\Psi}{\\partial F}$$\n",
    "\n",
    "The weak form is readily obtained by integrating by part the balance\n",
    "equation using a test function $v\\in V$ as in the linear case with $V$ being a suitable\n",
    "function space that satisfies the displacement boundary conditions:\n",
    "\n",
    "$$\\int_{\\Omega_0} \\rho \\ddot{u}\\cdot v \\, {\\rm d} x + \\int_{\\Omega_0} P(u):\\nabla v \\, {\\rm d} x =\n",
    "\\int_{\\Omega_0} f \\cdot v  \\, {\\rm d} x \n",
    "+ \\int_{\\partial\\Omega_0} (P\\cdot n) \\cdot v \\, {\\rm d} s \\quad \\text{for all } v \\in V\n",
    "$$\n",
    "\n",
    "The equation can be written as follows:\n",
    "\n",
    "$$\n",
    "\\text{Find }u\\in V\\text{ such that } m(\\ddot{u},v) + k_{NL}(u,v) = L(v) \\quad \\text{for all } v\\in V\n",
    "$$\n",
    "\n",
    "where $m$ is the symmetric bilinear form associated with the mass matrix\n",
    "and $k_{NL}$ the form associated with the stiffness which is only linear with $v$.\n",
    "\n",
    "After introducing the finite element space interpolation, one obtains\n",
    "the corresponding discretized evolution equation:\n",
    "\n",
    "$$\\text{Find }\\{u\\}\\in\\mathbb{R}^n\\text{ such that } \\{v\\}^T[M]\\{\\ddot{u}\\} + \\{v\\}^TF^{int}(\\{u\\}) = \\{v\\}^T\\{F\\} \\quad \\text{for all } \\{v\\}\\in\\mathbb{R}^n$$\n",
    "\n",
    "where $F^{int}(\\{u\\})$ is the vector of internal force coming from the $k_{NL}(u,v)$ form and which is a nonlinear function of $u$.\n",
    "\n",
    "Quite often in structural dynamics, structures do not oscillate\n",
    "perfectly but lose energy through various dissipative mechanisms\n",
    "(friction with air or supports, internal dissipation through plasticity,\n",
    "damage, etc.). Dissipative terms can be introduced at the level of the\n",
    "constitutive equation if these mechanisms are well known but quite often\n",
    "it is not the case. Dissipation can then be modeled by adding an *ad\n",
    "hoc* damping term depending on the structure velocity $\\dot{u}$ to the\n",
    "previous evolution equation:\n",
    "\n",
    "$$\\text{Find }u\\in V\\text{ such that } m(\\ddot{u},v) + c(\\dot{u},v) + k_{NL}(u,v) = L(v) \\quad \\text{for all } v\\in V$$\n",
    "\n",
    "The damping form will be considered here as bilinear and symmetric,\n",
    "being therefore associated with a damping matrix $[C]$.\n",
    "\n",
    "### Rayleigh damping\n",
    "\n",
    "When little is known about the origin of damping in the structure, a\n",
    "popular choice for the damping matrix, known as *Rayleigh damping*,\n",
    "consists in using a linear combination of the mass and stiffness matrix\n",
    "$[C] = \\eta_M[M]+\\eta_K[K]$ with two positive parameters $\\eta_M,\\eta_K$\n",
    "which can be fitted against experimental measures for instance (usually\n",
    "by measuring the damping ratio of two natural modes of vibration).\n",
    "To simplify, the damping associated with the stiffness will be set to zero: $\\eta_K=0$."
   ]
  },
  {
   "cell_type": "code",
   "execution_count": 7,
   "metadata": {},
   "outputs": [],
   "source": [
    "import dolfinx\n",
    "from dolfinx import nls\n",
    "import numpy as np\n",
    "import matplotlib.pyplot as plt\n",
    "import ufl\n",
    "import time\n",
    "import os\n",
    "from mpi4py import MPI\n",
    "from petsc4py.PETSc import ScalarType\n",
    "import petsc4py.PETSc\n",
    "import pyvista\n",
    "import extract"
   ]
  },
  {
   "cell_type": "markdown",
   "metadata": {},
   "source": [
    "### Definition of the geometry and the mesh"
   ]
  },
  {
   "cell_type": "code",
   "execution_count": 8,
   "metadata": {},
   "outputs": [],
   "source": [
    "# geometry and mesh \n",
    "L = 1.0 # total length\n",
    "h = 0.1*L # thickness\n",
    "d=h # an old typo: in this code we use both letters (d and h) to refer to the beam thickness, sorry.\n",
    "e = d/4.0 # size of a cell\n",
    "\n",
    "\n",
    "my_domain = dolfinx.mesh.create_rectangle(comm=MPI.COMM_WORLD,\n",
    "                            points=((0.0, -0.5*h), (L, 0.5*h)), n=(int(L/e), int(d/e)),\n",
    "                            cell_type=dolfinx.mesh.CellType.triangle)\n",
    "\n",
    "# Save the mesh in XDMF format\n",
    "with dolfinx.io.XDMFFile(MPI.COMM_WORLD, \"output_dyn_impl/mesh.xdmf\", \"w\") as file:\n",
    "    file.write_mesh(my_domain)\n",
    "    my_domain.topology.create_connectivity(1, 2)"
   ]
  },
  {
   "cell_type": "code",
   "execution_count": 9,
   "metadata": {},
   "outputs": [
    {
     "data": {
      "image/png": "[encoded data removed]",
      "text/plain": [
       "<PIL.Image.Image image mode=RGB size=1024x768>"
      ]
     },
     "metadata": {},
     "output_type": "display_data"
    }
   ],
   "source": [
    "# Plot the mesh with pyvista\n",
    "pyvista.start_xvfb()\n",
    "pyvista.set_jupyter_backend(\"static\") # non-interactif, mais mieux\n",
    "# pyvista.set_jupyter_backend(\"pythreejs\") # interactif, mais pas super\n",
    "topology, cells, geometry = dolfinx.plot.create_vtk_mesh(my_domain)\n",
    "function_grid = pyvista.UnstructuredGrid(topology, cells, geometry)\n",
    "plotter = pyvista.Plotter()\n",
    "plotter.add_mesh(function_grid, show_edges=True)\n",
    "plotter.show_bounds(grid='front', location='outer', all_edges=False)\n",
    "plotter.view_xy()\n",
    "plotter.show()"
   ]
  },
  {
   "cell_type": "code",
   "execution_count": null,
   "metadata": {},
   "outputs": [],
   "source": [
    "# Define the different parts of the boundary\n",
    "boundaries = [(1, lambda x: np.isclose(x[0], 0)),\n",
    "              (2, lambda x: np.isclose(x[0], L)),\n",
    "              (3, lambda x: np.isclose(x[1], -0.5*h)),\n",
    "              (4, lambda x: np.isclose(x[1], 0.5*h))]\n",
    "facet_indices, facet_markers = [], []\n",
    "fdim = my_domain.topology.dim - 1\n",
    "for (marker, locator) in boundaries:\n",
    "    facets = dolfinx.mesh.locate_entities(my_domain, fdim, locator)\n",
    "    facet_indices.append(facets) # here we put all the facets indices\n",
    "    facet_markers.append(np.full_like(facets, marker)) # here we put all the facets 'labels' (1, 2, 3 or 4)\n",
    "facet_indices = np.hstack(facet_indices).astype(np.int32) # concatenate everything in one big vector\n",
    "facet_markers = np.hstack(facet_markers).astype(np.int32)\n",
    "sorted_facets = np.argsort(facet_indices) # sorting\n",
    "facet_tag = dolfinx.mesh.meshtags(my_domain, fdim, facet_indices[sorted_facets], facet_markers[sorted_facets])"
   ]
  },
  {
   "cell_type": "code",
   "execution_count": null,
   "metadata": {},
   "outputs": [],
   "source": [
    "# unused ds = ufl.Measure(\"ds\", domain=my_domain, subdomain_data=facet_tag)\n",
    "dx = ufl.dx(domain=my_domain)"
   ]
  },
  {
   "cell_type": "markdown",
   "metadata": {},
   "source": [
    "### Material parameters"
   ]
  },
  {
   "cell_type": "code",
   "execution_count": null,
   "metadata": {},
   "outputs": [],
   "source": [
    "# Material parameters\n",
    "Y  = 1.\n",
    "nu = 0.25\n",
    "mu = Y/(2.*(1.+nu))\n",
    "lambda_ = Y*nu/((1.+nu)*(1.-2.*nu))\n",
    "rho = dolfinx.fem.Constant(my_domain,ScalarType(1.))"
   ]
  },
  {
   "cell_type": "markdown",
   "metadata": {},
   "source": [
    "### Definition of the problem in nonlinear case (finite deformations)"
   ]
  },
  {
   "cell_type": "code",
   "execution_count": null,
   "metadata": {},
   "outputs": [],
   "source": [
    "V = dolfinx.fem.VectorFunctionSpace(my_domain,(\"Lagrange\", 1),dim=2)"
   ]
  },
  {
   "cell_type": "code",
   "execution_count": null,
   "metadata": {},
   "outputs": [],
   "source": [
    "boundary_clamped_dofs_left = dolfinx.fem.locate_dofs_topological(V, facet_tag.dim, facet_tag.find(1)) # dofs on the left end of the bar\n",
    "boundary_clamped_dofs_right = dolfinx.fem.locate_dofs_topological(V, facet_tag.dim, facet_tag.find(2)) # dofs on the right end of the bar\n",
    "#this is the boundary value of u(x,y) at the left border : it has to be zero (clamped)\n",
    "u_D_left = np.array([0,0], dtype=ScalarType)\n",
    "u_D_right = np.array([0,0], dtype=ScalarType)\n",
    "bc_left = dolfinx.fem.dirichletbc(u_D_left, boundary_clamped_dofs_left, V)\n",
    "bc_right = dolfinx.fem.dirichletbc(u_D_right, boundary_clamped_dofs_right, V)"
   ]
  },
  {
   "cell_type": "code",
   "execution_count": null,
   "metadata": {},
   "outputs": [],
   "source": [
    "# Nonlinear setup\n",
    "I2 = ufl.Identity(2)\n",
    "\n",
    "def energy_nonlinear(u):  \n",
    "    F  = ufl.variable(I2 + ufl.grad(u))  \n",
    "    CC = ufl.variable(F.T*F )                  \n",
    "    Ic = ufl.variable(ufl.tr(CC))\n",
    "    J  = ufl.variable(ufl.det(F))\n",
    "    E  = ufl.variable(1/2*(CC-I2))\n",
    "    # Stored strain energy density\n",
    "    #psi = lambda_*ufl.tr(E)**2/2 + mu*ufl.inner(E,E) # Saint Venant–Kirchhoff\n",
    "    psi = (mu/2)*(Ic - 2) - mu*ufl.ln(J) + (lambda_/2)*(ufl.ln(J))**2 # neo-Hookean\n",
    "    return psi*dx\n",
    "\n",
    "def stress_nonlinear(u):\n",
    "    F = ufl.variable(I2 + ufl.grad(u))  \n",
    "    CC = ufl.variable(F.T*F )                  \n",
    "    Ic = ufl.variable(ufl.tr(CC))\n",
    "    J  = ufl.variable(ufl.det(F))\n",
    "    E  = ufl.variable(1/2*(CC-I2))\n",
    "    # Stored strain energy density \n",
    "    #psi = lambda_*ufl.tr(E)**2/2 + mu*ufl.inner(E,E) # Saint Venant–Kirchhoff\n",
    "    psi = (mu/2)*(Ic - 2) - mu*ufl.ln(J) + (lambda_/2)*(ufl.ln(J))**2 # neo-Hookean\n",
    "    return ufl.diff(psi,F)\n",
    "\n",
    "def strain_displacement_nonlinear(u):\n",
    "    F = ufl.variable(I2 + ufl.grad(u))  \n",
    "    CC = ufl.variable(F.T*F )                  \n",
    "    Ic = ufl.variable(ufl.tr(CC))\n",
    "    J  = ufl.variable(ufl.det(F))\n",
    "    E  = ufl.variable(1/2*(CC-I2))\n",
    "    return E\n",
    "\n",
    "def stiffness_nonlinear(u, v):\n",
    "    return ufl.inner(stress_nonlinear(u),ufl.grad(v))*dx"
   ]
  },
  {
   "cell_type": "code",
   "execution_count": null,
   "metadata": {},
   "outputs": [],
   "source": [
    "eta_m = dolfinx.fem.Constant(my_domain,ScalarType(0.01))\n",
    "# not used eta_k = dolfinx.fem.Constant(my_domain,ScalarType(0.))\n",
    "\n",
    "f = dolfinx.fem.Constant(my_domain, ScalarType((0, 0)))\n",
    "\n",
    "def mass(u, v):\n",
    "    return rho*ufl.inner(u, v)*dx\n",
    "\n",
    "def damping(u, v): \n",
    "    return eta_m*mass(u, v) #+ eta_k*stiffness_linear(u, v)\n",
    "\n",
    "def p_ext(u):\n",
    "    return ufl.dot(f,u)*dx # volumetric load (e.g. weight)"
   ]
  },
  {
   "cell_type": "code",
   "execution_count": null,
   "metadata": {},
   "outputs": [],
   "source": [
    "u_bar = ufl.TestFunction(V)"
   ]
  },
  {
   "cell_type": "code",
   "execution_count": null,
   "metadata": {},
   "outputs": [],
   "source": [
    "u_sol = dolfinx.fem.Function(V)# displacement of the solution\n",
    "v_sol = dolfinx.fem.Function(V)# velocity of the solution\n",
    "a_sol = dolfinx.fem.Function(V)# acceleration of the solution"
   ]
  },
  {
   "cell_type": "markdown",
   "metadata": {},
   "source": [
    "# `Questions start here`"
   ]
  },
  {
   "cell_type": "markdown",
   "metadata": {},
   "source": [
    "#### Replace the XXX with appropriate fenicsx code"
   ]
  },
  {
   "cell_type": "markdown",
   "metadata": {},
   "source": [
    "## Implicit time-stepping scheme"
   ]
  },
  {
   "cell_type": "markdown",
   "metadata": {},
   "source": [
    "### Time discretization using the Newmark-$\\beta$ method\n",
    "\n",
    "We now introduce a time discretization of the interval study $[0;T]$ in\n",
    "$N+1$ time increments $t_0=0,t_1,\\ldots,t_N,t_{N+1}=T$ with\n",
    "$\\Delta t=T/N$ denoting the time step (supposed constant). The\n",
    "resolution will make use of the Newmark-$\\beta$ method in\n",
    "structural dynamics. As an implicit method, it is unconditionally stable\n",
    "for a proper choice of coefficients so that quite large time steps can\n",
    "be used. It also allows for high frequency dissipation and offers a\n",
    "second-order accuracy, i.e. in $O(\\Delta t^2)$.\n",
    "\n",
    "The method consists in solving the dynamic evolution equation at\n",
    "intermediate time between $t_n$ and $t_{n+1}$ as follows:\n",
    "\n",
    "$$[Eq1] \\quad [M]\\{\\ddot{u}_{n+1}\\} + [C]\\{\\dot{u}_{n+1}\\}+\\{F^{int}(u_{n+1}) \\}= \\{F(t_{n+1})\\}$$\n",
    "\n",
    "Note that the first two terms involve the mass matrix [M] and the damping matrix [C] and are linear relative to the vector\n",
    "${u}_{n+1}$ or its time derivative.\n",
    "On the contrary, the third term $\\{F^{int}(u_{n+1})\\}$ is a non linear function of $\\{{u}_{n+1}\\}$ and gives\n",
    "the internal forces resulting from the non linear behavior of the material or from large strains.\n",
    "\n",
    "*The following approximations for the displacement and velocity\n",
    "at $t_{n+1}$ are used:\n",
    "\n",
    "$$ [Eq2] \\quad \n",
    "\\{u_{n+1}\\} = \\{u_{n}\\}+\\Delta t \\{\\dot{u}_{n}\\} + \\dfrac{\\Delta t^2}{2}\\left((1-2\\beta)\\{\\ddot{u}_{n}\\}+2\\beta\\{\\ddot{u}_{n+1}\\}\\right)\n",
    "$$\n",
    "that can also be written as\n",
    "$$ \n",
    "[Eq3]\\quad  \\{u_{n+1}\\} =  \\{ \\hat{u}_n\\} + \\Delta t^2 \\, \\beta \\, \\{\\ddot{u}_{n+1}\\}\n",
    "$$\n",
    "with\n",
    "$$ \\quad \n",
    "\\{ \\hat{u}_n\\}  = \\{u_{n}\\}+\\Delta t \\{\\dot{u}_{n}\\} + \\dfrac{\\Delta t^2}{2}(1-2\\beta)\\{\\ddot{u}_{n}\\}\n",
    "$$\n",
    "and for the velocity\n",
    "$$\n",
    "[Eq4]\\quad  \\{\\dot{u}_{n+1}\\} =  \\{ \\hat{\\dot{u}}_n\\} + \\Delta t \\, \\gamma \\, \\{\\ddot{u}_{n+1}\\}\n",
    "$$\n",
    "with\n",
    "$$  \n",
    "\\{ \\hat{\\dot{u}}_n\\} = \\{\\dot{u}_{n}\\} + \\Delta t(1-\\gamma)\\{\\ddot{u}_{n}\\}\n",
    "$$"
   ]
  },
  {
   "cell_type": "markdown",
   "metadata": {},
   "source": [
    "### Time-discretization parameters"
   ]
  },
  {
   "cell_type": "markdown",
   "metadata": {},
   "source": [
    "Parameters of the Newmark-β method.\n",
    "A popular choice of parameters which ensures unconditional stability, optimal dissipation and second-order accuracy is:\n",
    "$$\\gamma=\\frac{1}{2},\\quad \\beta=\\frac{1}{4}$$"
   ]
  },
  {
   "cell_type": "code",
   "execution_count": null,
   "metadata": {},
   "outputs": [],
   "source": [
    "gamma = 1./2.\n",
    "beta = 1./4."
   ]
  },
  {
   "cell_type": "markdown",
   "metadata": {},
   "source": [
    "At time step $n$, when $u_n$, $\\dot{u}_n$, and $\\ddot{u}_n$ are known, [Eq1-2-3-4] can be used to write an equation for $\\ddot{u}_{n+1}$ \n",
    "\n",
    "$$ [Eq5] \\quad \n",
    "[M] \\, \\{\\ddot{u}_{n+1}\\} + \\gamma\\Delta t\\, [C] \\{\\ddot{u}_{n+1}\\}  + F^{int}(\\{ \\hat{u}_n\\} + \\Delta t^2 \\, \\beta \\, \\{\\ddot{u}_{n+1}\\})= \\{F(t_{n+1})\\}  - [C] \\, \\{\\hat{\\dot{u}}_n\\}\n",
    "$$\n",
    "The left-hand side defines a non linear operator of the acceleration $\\ddot{u}_{n+1}$ that can be written as\n",
    "\\begin{equation*}\n",
    "[Eq6]\\ \\ \\\n",
    "\\{A\\}( \\{\\ddot{u}_{n+1}\\}) = [M] \\, \\{\\ddot{u}_{n+1}\\} + \\gamma\\Delta t\\, [C] \\{\\ddot{u}_{n+1}\\}  + F^{int}(\\{ \\hat{u}_n\\} + \\Delta t^2 \\, \\beta \\, \\{\\ddot{u}_{n+1}\\})\n",
    "\\end{equation*}\n",
    "where the non linearity comes from the interior forces.\n",
    "Then, the problem consists in solving the non linear equation\n",
    "\\begin{equation*}\n",
    "[Eq7]\\ \\ \\\n",
    "\\{A\\}( \\{\\ddot{u}_{n+1}\\}) = \\{F(t_{n+1})\\}  - [C] \\, \\{\\hat{\\dot{u}}_n\\}\n",
    "\\end{equation*}"
   ]
  },
  {
   "cell_type": "markdown",
   "metadata": {},
   "source": [
    "Then, once [Eq5] is solved and we know $\\{\\ddot{u}_{n+1}\\}$, we update the values of $\\{u_n\\}$ and $\\{\\dot{u}_n\\}$ using [Eq3] and [Eq4]:\n",
    "$$ \n",
    "[Eq8]\\quad  \\{u_{n+1}\\} =  \\{ \\hat{u}_n\\} + \\Delta t^2 \\, \\beta \\, \\{\\ddot{u}_{n+1}\\}\n",
    "$$\n",
    "and\n",
    "$$\n",
    "[Eq9]\\quad  \\{\\dot{u}_{n+1}\\} =  \\{ \\hat{\\dot{u}}_n\\} + \\Delta t \\, \\gamma \\, \\{\\ddot{u}_{n+1}\\}\n",
    "$$"
   ]
  },
  {
   "cell_type": "code",
   "execution_count": null,
   "metadata": {},
   "outputs": [],
   "source": [
    "dt = dolfinx.fem.Constant(my_domain,ScalarType(0.0))\n",
    "# Define the nonlinear operator A(u, u_bar) described in relation [Eq6] for a test function u_bar\n",
    "# with Eq.6\n",
    "def A(u, u_bar):\n",
    "    return mass(u, u_bar) + XXX + XXX"
   ]
  },
  {
   "cell_type": "markdown",
   "metadata": {},
   "source": [
    "We define the residual as the left-hand side of [Eq7] minus its right hand-side and the nonlinear problem associated to this residual."
   ]
  },
  {
   "cell_type": "code",
   "execution_count": null,
   "metadata": {},
   "outputs": [],
   "source": [
    "residual = A(a_sol, XXX) - XXX + XXX # from Eq.7\n",
    "problem = dolfinx.fem.petsc.NonlinearProblem(residual, a_sol, bcs=[bc_left, bc_right])\n",
    "solverNL = nls.petsc.NewtonSolver(my_domain.comm, problem)\n",
    "\n",
    "# Set linear solver options\n",
    "ksp = solverNL.krylov_solver\n",
    "opts = petsc4py.PETSc.Options()\n",
    "option_prefix = ksp.getOptionsPrefix()\n",
    "opts[f\"{option_prefix}pc_factor_mat_solver_type\"] = \"mumps\"\n",
    "ksp.setFromOptions()\n",
    "# Set Newton solver options\n",
    "solverNL.atol = 1e-8\n",
    "solverNL.rtol = 1e-8\n",
    "solverNL.max_it = 1000\n",
    "solverNL.convergence_criterion = \"incremental\""
   ]
  },
  {
   "cell_type": "markdown",
   "metadata": {},
   "source": [
    "## Parameters of the simulation\n",
    "\n",
    "### Material, loading and time-discretization parameters\n",
    "\n",
    "A time-dependent transverse volumetric force $f$ is applied as follows\n",
    "\\begin{equation}\n",
    "f = \\begin{cases}\n",
    "\\displaystyle\\frac{t}{t_{\\mathrm{c}}} f_{\\mathrm{max}} & t \\leq t_{\\mathrm{c}}\\\\[.2em]\n",
    "0 & t > t_{\\mathrm{c}}\n",
    "\\end{cases}\n",
    "\\end{equation}\n",
    "where $t_{\\mathrm{c}}$ is a “cut-off” time. Note that depending on the direction of the applied traction, we will need to select different values for `t_c` and `f_max`."
   ]
  },
  {
   "cell_type": "code",
   "execution_count": null,
   "metadata": {},
   "outputs": [],
   "source": [
    "# Damping parameters\n",
    "# The damping matrix C is defined as C = eta_m * M\n",
    "eta_m.value = 0.01 # for which value do you obtain a critically damped response?\n",
    "# Loading\n",
    "t_end = 100. # end time of the simulation\n",
    "num_steps  = 300 # total number of steps for the entire simulation\n",
    "dt.value = t_end/num_steps # Is there an upper limit for the time step (can you go up to dt=1?)\n",
    "print('time step = ',dt.value)\n",
    "t_cutoff = 35 # time duration for which we apply self-weight (this t_c).\n",
    "#              How small can this time be if you want to reach the static state?\n",
    "#              For example, with tc=20 are you loading up to statics sate?\n",
    "f_max = 0.05 # Max applied weight. Example: f_max=0.05 yields a static vertical displacement of 0.1. \n",
    "#              How does the static vertical displacement vary with f_max?\n",
    "\n",
    "def load_eval(t):\n",
    "    if t <= t_cutoff:\n",
    "        return f_max*t/t_cutoff\n",
    "    else:\n",
    "        return 0"
   ]
  },
  {
   "cell_type": "code",
   "execution_count": null,
   "metadata": {},
   "outputs": [],
   "source": [
    "# A theoretical formula to have an approximation of the static state\n",
    "gamma_adim=12*f_max*L**3/Y/d**2\n",
    "eta=1/12.0*(d/L)**2\n",
    "print('Gamma adim = ',gamma_adim)\n",
    "print('1/eta = ',1/eta)\n",
    "tmp = (gamma_adim/eta**0.5)**0.5\n",
    "Happrox = 84.33 * gamma_adim * (0.114 * tmp - 4 * np.tanh(0.0285 * tmp)) / tmp**3\n",
    "print('Static vertical displacement of mid point  = ',Happrox)"
   ]
  },
  {
   "cell_type": "code",
   "execution_count": null,
   "metadata": {},
   "outputs": [],
   "source": [
    "# the loop for time integration is here\n",
    "time_solve = 0.\n",
    "\n",
    "u_sol.x.set(0)\n",
    "v_sol.x.set(0)\n",
    "a_sol.x.set(0)\n",
    "   \n",
    "times = dt.value*np.arange(num_steps+1, dtype=np.float64)\n",
    "displ_tip = np.zeros_like(times)\n",
    "    \n",
    "with dolfinx.io.XDMFFile(my_domain.comm, \"output_dyn_impl/time_steps_u.xdmf\", \"w\") as file:\n",
    "    file.write_mesh(my_domain)\n",
    "\n",
    "for n in range(num_steps):\n",
    "    f.value[1] = load_eval((n+1)*dt.value) # update transverse loading\n",
    "    if (n%100 == 0):\n",
    "        print(n,' / ', num_steps)\n",
    "    # 1. Predictor step\n",
    "    # u_t = u + dt * v_t +  a_t * (1 - 2*beta) * dt**2 / 2 \n",
    "    u_XXX.vector.axpy(XXX, XXX.vector)\n",
    "    u_XXX.vector.axpy(XXX, XXX.vector)\n",
    "    # v_t = v + a_t * (1 - gamma) * dt \n",
    "    v_XXX.vector.axpy(XXX, XXX.vector)\n",
    "\n",
    "    # 2. Update acceleration\n",
    "    # Solve for acceleration, Eq7\n",
    "    t1 = time.perf_counter()\n",
    "    num_its, converged = solverNL.solve(a_sol)\n",
    "    t2 = time.perf_counter()\n",
    "    time_solve += t2 - t1\n",
    "    \n",
    "    # 3. Corrector step\n",
    "    # u_t = u_t + a_t * beta * dt**2\n",
    "    # v_t = v_t + a_t * gamma * dt \n",
    "    u_XXX.vector.axpy(XXX, XXX.vector)\n",
    "    v_XXX.vector.axpy(XXX, XXX.vector)\n",
    "    \n",
    "    # Postprocessing \n",
    "    displ_tip[n+1] = extract.solution(my_domain, u_sol, L/2, 0.0)[1]  #u_y(mid_bar)\n",
    "\n",
    "    if (n%10 == 0):\n",
    "        dummy_line=1\n",
    "        file.write_function(u_sol, (n+1)*dt.value) # comment this line if you dont want the xdmf export\n",
    "\n",
    "# Close xmdf file\n",
    "file.close()\n",
    "print('time spent in the NL solver: ',time_solve)\n",
    "print('time for files saving:',XXX)\n",
    "print('Total time: ',XXX)"
   ]
  },
  {
   "cell_type": "code",
   "execution_count": null,
   "metadata": {},
   "outputs": [],
   "source": [
    "plt.figure()\n",
    "plt.plot(times, displ_tip, 'k.-')\n",
    "plt.plot(times,  Happrox*np.ones_like(times), '--g') # what is this limit?\n",
    "plt.plot(times, -Happrox*np.ones_like(times), '--g') # what is this limit?\n",
    "plt.grid()\n",
    "plt.xlabel(\"Time\")\n",
    "plt.ylabel(\"Tip displacement\")\n",
    "#plt.savefig(\"tip_displacement.png\")"
   ]
  },
  {
   "cell_type": "markdown",
   "metadata": {},
   "source": [
    "## Flexural and extensional vibration periods"
   ]
  },
  {
   "cell_type": "code",
   "execution_count": null,
   "metadata": {},
   "outputs": [],
   "source": [
    "# In the 1D linear case (using beam theory - RDM):\n",
    "I = h*h*h/12\n",
    "a0 = 22.37\n",
    "f0_beam = a0/2/np.pi*np.sqrt(Y/rho.value)/L/L*np.sqrt(I/h)\n",
    "print('Period for 1st mode of transverse vibrations of an elastic clamped-clamped beam = ',1/f0_beam)"
   ]
  },
  {
   "cell_type": "code",
   "execution_count": null,
   "metadata": {},
   "outputs": [],
   "source": [
    "# In the 1D linear case (using beam theory - RDM):\n",
    "f0_bar = np.sqrt(Y/rho.value)/L/2\n",
    "print('Period for 1st mode of longitudinal vibrations of an elastic clamped-clamped beam = ',1/f0_bar)"
   ]
  },
  {
   "cell_type": "code",
   "execution_count": null,
   "metadata": {},
   "outputs": [],
   "source": []
  }
 ],
 "metadata": {
  "kernelspec": {
   "display_name": "Python 3 (ipykernel)",
   "language": "python",
   "name": "python3"
  },
  "language_info": {
   "codemirror_mode": {
    "name": "ipython",
    "version": 3
   },
   "file_extension": ".py",
   "mimetype": "text/x-python",
   "name": "python",
   "nbconvert_exporter": "python",
   "pygments_lexer": "ipython3",
   "version": "3.10.6"
  }
 },
 "nbformat": 4,
 "nbformat_minor": 4
}
