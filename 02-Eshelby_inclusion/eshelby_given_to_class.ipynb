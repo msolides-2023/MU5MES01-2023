{
 "cells": [
  {
   "cell_type": "markdown",
   "id": "0b96b9d7-a00a-4914-8383-c3771761f4bf",
   "metadata": {},
   "source": [
    "# FEniCS simulation of Eshelby's circular inclusion problem"
   ]
  },
  {
   "cell_type": "markdown",
   "id": "e42140ca-2ab2-4b36-8376-5bb5ce12f835",
   "metadata": {},
   "source": [
    "The aim of this notebook is to setup a very simple FEniCS simulation. The framework is linear, plane strain elasticity. We model a matrix in a disk around the origin (radius $R_m$) with an inclusion having the shape of another disk around the origin, with a smaller radius ($R_i < R_e$). The matrix and the inclusion have different elastic modulus ($E$: Young modulus; $\\nu$: Poisson ratio) but are both isotropic and linearly elastic.\n",
    "\n",
    "\\begin{equation}\n",
    "\\sigma_{ij} = \\lambda\\varepsilon_{kk}\\delta_{ij}+2\\mu\\varepsilon_{ij},\n",
    "\\end{equation}\n",
    "\n",
    "where indices $i, j, k$ are restricted to $\\{1, 2\\}$ and $\\lambda$, $\\mu$ are the Lamé coefficients :\n",
    "\n",
    "\\begin{equation*}\n",
    "\\mu=\\frac{E}{2\\bigl(1+\\nu\\bigr)}\n",
    "\\quad\\text{and}\\quad\n",
    "\\lambda=\\frac{2\\mu\\nu}{1-2\\nu}.\n",
    "\\end{equation*}\n",
    "\n",
    "The variational formulation of the problem is the following:\n",
    "\n",
    "Find $u\\in \\mathcal{C}\\equiv\\{u: H^1(\\Omega), \\; u(x_1,x_2)|_{x_1^2+x_2^2=R_e^2}\n",
    "%\\text{border}\n",
    "=(-x_2,-x_1)\\}$ such that \n",
    "$\\forall v\\in \\mathcal{C}_0\\equiv \\mathcal{C}$\n",
    "\n",
    "\n",
    "\\begin{equation}\n",
    "\\int_\\Omega \\sigma(\\varepsilon(u)):\\varepsilon(v)\\,\\mathrm{d}x\\,\\mathrm{d}y =\n",
    "\\int_{\\Omega} b \\cdot v\\,\\mathrm{d} x\\,\\mathrm{d} y,\n",
    "\\end{equation}\n",
    "\n",
    "where the body force $b=0$ and $\\sigma(\\varepsilon)$ is the constitutive equation and $\\varepsilon(u)=\\mathrm{sym} (\\nabla u)$  "
   ]
  },
  {
   "cell_type": "markdown",
   "id": "4b4f9958-f75c-4296-977f-2e3650bc7fd1",
   "metadata": {},
   "source": [
    "![shema](inclusion_shear.png)"
   ]
  },
  {
   "cell_type": "markdown",
   "id": "c357ef19-d4aa-4255-9bbf-0d5f26807854",
   "metadata": {},
   "source": [
    "you can find help here:\n",
    "\n",
    "- Mesh generation\n",
    "   - https://jorgensd.github.io/dolfinx-tutorial/chapter1/membrane_code.html\n",
    "   - https://jorgensd.github.io/dolfinx-tutorial/chapter2/ns_code2.html#mesh-generation\n",
    "   - https://docs.fenicsproject.org/dolfinx/main/python/demos/demo_gmsh.html\n",
    "- Dirichlet bc\n",
    "    - https://jorgensd.github.io/dolfinx-tutorial/chapter1/fundamentals_code.html#defining-the-boundary-conditions\n",
    "    - https://jorgensd.github.io/dolfinx-tutorial/chapter2/linearelasticity_code.html#boundary-conditions\n",
    "    - https://jorgensd.github.io/dolfinx-tutorial/chapter3/component_bc.html\n",
    "- Visualization in Paraview\n",
    "    - https://jorgensd.github.io/dolfinx-tutorial/chapter1/membrane_paraview.html\n",
    "- Interpolating the strain tensor once we have the displacement vector\n",
    "    - https://jorgensd.github.io/dolfinx-tutorial/chapter2/linearelasticity_code.html#stress-computation\n",
    "- pyvista\n",
    "    - https://jorgensd.github.io/dolfinx-tutorial/chapter2/linearelasticity_code.html#visualization\n",
    "    - https://docs.fenicsproject.org/dolfinx/main/python/demos/demo_pyvista.html\n",
    "- The Assemble function to perform integrals\n",
    "    - https://jorgensd.github.io/dolfinx-tutorial/chapter1/fundamentals_code.html#computing-the-error\n",
    "- Convergence study\n",
    "    - https://jorgensd.github.io/dolfinx-tutorial/chapter4/convergence.html"
   ]
  },
  {
   "cell_type": "code",
   "execution_count": null,
   "id": "1ea07659-17a0-4e1b-a75a-a41a043ba404",
   "metadata": {},
   "outputs": [],
   "source": [
    "import dolfinx # FEM in python\n",
    "import matplotlib.pyplot as plt\n",
    "import ufl # variational formulations\n",
    "import numpy as np\n",
    "from mpi4py import MPI\n",
    "from petsc4py.PETSc import ScalarType\n",
    "import gmsh # Mesh generation"
   ]
  },
  {
   "cell_type": "code",
   "execution_count": null,
   "id": "2cabb934-27e4-432a-bd60-9696d0fff1ad",
   "metadata": {},
   "outputs": [],
   "source": [
    "import pyvista # visualisation in python notebook"
   ]
  },
  {
   "cell_type": "code",
   "execution_count": null,
   "id": "e6bc6d50-e772-48e6-b51f-ca323dac37d9",
   "metadata": {},
   "outputs": [],
   "source": [
    "# ONLY EXCUTE ONCE if needed for pyvista\n",
    "# !pip install ipyvtklink==0.2.3 "
   ]
  },
  {
   "cell_type": "code",
   "execution_count": null,
   "id": "19bc2b61-16bf-454f-9499-ccd499242db9",
   "metadata": {},
   "outputs": [],
   "source": [
    "import extract # this to be able to have the value of a solution at point (x,y)\n",
    "# use it this way : extract.solution(my_domain, u_solution, x=0.5, y=0.01)"
   ]
  },
  {
   "cell_type": "markdown",
   "id": "bb90b1a8-d425-4a71-907b-c3d16f3b2578",
   "metadata": {},
   "source": [
    "# Parameters of the simulation"
   ]
  },
  {
   "cell_type": "code",
   "execution_count": null,
   "id": "d3d9e047-e9e9-4756-828f-16b31c2d4fae",
   "metadata": {},
   "outputs": [],
   "source": [
    "# Geometry\n",
    "R_i = 1.0 # Radius of the inclusion\n",
    "R_e = 6.9  # Radius of the matrix (whole domain)\n",
    "aspect_ratio = 1.0 # start with a circle, otherwise ellipse"
   ]
  },
  {
   "cell_type": "code",
   "execution_count": null,
   "id": "d6222f64-eb17-462f-9a54-4bfc961c31ca",
   "metadata": {},
   "outputs": [],
   "source": [
    "# Material\n",
    "E_m = 1.0 # Young's modulus in matrix\n",
    "nu_m = 0.35 # Poisson's ratio in matrix\n",
    "E_i = 11.0 # Young's modulus of inclusion\n",
    "nu_i = 0.3 # Poisson's ratio in inclusion"
   ]
  },
  {
   "cell_type": "markdown",
   "id": "487da794",
   "metadata": {},
   "source": [
    "## Create the mesh with gmsh"
   ]
  },
  {
   "cell_type": "code",
   "execution_count": null,
   "id": "6db13f56",
   "metadata": {},
   "outputs": [],
   "source": [
    "mesh_size = R_i/5\n",
    "mesh_order = 1 \n",
    "\n",
    "mesh_comm = MPI.COMM_WORLD\n",
    "model_rank = 0\n",
    "gmsh.initialize()\n",
    "facet_names = {\"inner_boundary\": 1, \"outer_boundary\": 2}\n",
    "cell_names = {\"inclusion\": 1, \"matrix\": 2}\n",
    "model = gmsh.model()\n",
    "model.add(\"Disk\")\n",
    "model.setCurrent(\"Disk\")\n",
    "gdim = 2 # geometric dimension of the mesh\n",
    "inner_disk = gmsh.model.occ.addDisk(0, 0, 0, R_i, aspect_ratio * R_i)\n",
    "outer_disk = gmsh.model.occ.addDisk(0, 0, 0, R_e, R_e)\n",
    "whole_domain = gmsh.model.occ.fragment([(gdim, outer_disk)], [(gdim, inner_disk)])\n",
    "gmsh.model.occ.synchronize()\n",
    "\n",
    "# Add physical tag for bulk\n",
    "inner_domain = whole_domain[0][0]\n",
    "outer_domain = whole_domain[0][1]\n",
    "model.addPhysicalGroup(gdim, [inner_domain[1]], tag=cell_names[\"inclusion\"])\n",
    "model.setPhysicalName(gdim, inner_domain[1], \"Inclusion\")\n",
    "model.addPhysicalGroup(gdim, [outer_domain[1]], tag=cell_names[\"matrix\"])\n",
    "model.setPhysicalName(gdim, outer_domain[1], \"Matrix\")\n",
    "\n",
    "# Add physical tag for boundaries\n",
    "lines = gmsh.model.getEntities(dim=1)\n",
    "inner_boundary = lines[1][1]\n",
    "outer_boundary = lines[0][1]\n",
    "gmsh.model.addPhysicalGroup(1, [inner_boundary], facet_names[\"inner_boundary\"])\n",
    "gmsh.model.addPhysicalGroup(1, [outer_boundary], facet_names[\"outer_boundary\"])\n",
    "gmsh.option.setNumber(\"Mesh.CharacteristicLengthMin\",mesh_size)\n",
    "gmsh.option.setNumber(\"Mesh.CharacteristicLengthMax\",mesh_size)\n",
    "model.mesh.generate(gdim)\n",
    "gmsh.option.setNumber(\"General.Terminal\", 1)\n",
    "model.mesh.setOrder(mesh_order)\n",
    "gmsh.option.setNumber(\"General.Terminal\", 0)\n",
    "\n",
    "# Import the mesh in dolfinx\n",
    "from dolfinx.io import gmshio\n",
    "domain, cell_tags, facet_tags = gmshio.model_to_mesh(model, mesh_comm, model_rank, gdim=gdim)\n",
    "domain.name = \"composite\"\n",
    "cell_tags.name = f\"{domain.name}_cells\"\n",
    "facet_tags.name = f\"{domain.name}_facets\"\n",
    "gmsh.finalize()"
   ]
  },
  {
   "cell_type": "code",
   "execution_count": 17,
   "id": "16753075-b9fc-4e46-bb97-e96aef1edd40",
   "metadata": {},
   "outputs": [
    {
     "data": {
      "text/plain": [
       "2"
      ]
     },
     "execution_count": 17,
     "metadata": {},
     "output_type": "execute_result"
    }
   ],
   "source": [
    "cell_names[\"matrix\"]"
   ]
  },
  {
   "cell_type": "code",
   "execution_count": 16,
   "id": "f4fea9f8-6ba9-40a3-ae55-f6945a7cc1c4",
   "metadata": {},
   "outputs": [
    {
     "data": {
      "text/plain": [
       "1"
      ]
     },
     "execution_count": 16,
     "metadata": {},
     "output_type": "execute_result"
    }
   ],
   "source": [
    "cell_names[\"inclusion\"]"
   ]
  },
  {
   "cell_type": "markdown",
   "id": "44abe71f-0c4b-4758-818c-54e11949808c",
   "metadata": {},
   "source": [
    "# `Questions start here`"
   ]
  },
  {
   "cell_type": "markdown",
   "id": "756f5fe0-166d-4f8e-a184-41ac8708a2c3",
   "metadata": {},
   "source": [
    "# 0) Export the mesh as a xdmf file and open it in Paraview"
   ]
  },
  {
   "cell_type": "code",
   "execution_count": null,
   "id": "0de0179a-bf2b-49a5-9bc8-ae885d5f35c4",
   "metadata": {},
   "outputs": [],
   "source": [
    "# Save the mesh in XDMF format\n",
    "with dolfinx.io.XDMFFile(MPI.COMM_WORLD, \"output/mesh.xdmf\", \"w\") as file:\n",
    "    file.write_mesh(domain)\n",
    "    domain.topology.create_connectivity(1, 2)\n",
    "    file.write_meshtags(cell_tags, geometry_xpath=f\"/Xdmf/Domain/Grid[@Name='{domain.name}']/Geometry\")\n",
    "    file.write_meshtags(facet_tags, geometry_xpath=f\"/Xdmf/Domain/Grid[@Name='{domain.name}']/Geometry\")"
   ]
  },
  {
   "cell_type": "markdown",
   "id": "6b3c83ae-9710-4618-bfd2-13921fb7df90",
   "metadata": {},
   "source": [
    "# 1) Plot the mesh with a color code to locate the inclusion and the matrix"
   ]
  },
  {
   "cell_type": "code",
   "execution_count": null,
   "id": "3365694b-4bef-410a-afb5-df5f93796f9c",
   "metadata": {},
   "outputs": [],
   "source": [
    "from dolfinx.plot import create_vtk_mesh\n",
    "pyvista.set_jupyter_backend(\"none\") # non-interactiv, but sometimes better"
   ]
  },
  {
   "cell_type": "code",
   "execution_count": null,
   "id": "f24bba69-a6dc-4933-88e6-2254fcb1a12f",
   "metadata": {},
   "outputs": [],
   "source": [
    "grid = pyvista.UnstructuredGrid(*create_vtk_mesh(domain))\n",
    "plotter = pyvista.Plotter()\n",
    "plotter.add_mesh(grid, show_edges=True)\n",
    "plotter.show_bounds(grid='front', location='outer', all_edges=True)\n",
    "plotter.view_xy()\n",
    "plotter.show()"
   ]
  },
  {
   "cell_type": "markdown",
   "id": "2a092533-e1da-437a-8c22-67a41fa1ca50",
   "metadata": {},
   "source": [
    "# 2) Define integral over the two domains domains"
   ]
  },
  {
   "cell_type": "code",
   "execution_count": null,
   "id": "973b1d90",
   "metadata": {},
   "outputs": [],
   "source": [
    "ds = ufl.Measure(\"ds\", XXXX)\n",
    "dx = ufl.Measure(\"dx\", XXXX)\n",
    "one = dolfinx.fem.Constant(domain,ScalarType(1.))"
   ]
  },
  {
   "cell_type": "code",
   "execution_count": null,
   "id": "c8d862ec-2838-48af-bd9c-59e9204509fc",
   "metadata": {},
   "outputs": [],
   "source": [
    "area_inclusion = dolfinx.fem.assemble_XXXXX(XXX one * dx(1)))\n",
    "area_matrix = dolfinx.fem.assemble_XXXX(XXX * dx(2)))\n",
    "area_domain = dolfinx.fem.assemble_XXXX(XXX * ufl.dx))\n",
    "area_inclusion, area_matrix, area_domain"
   ]
  },
  {
   "cell_type": "markdown",
   "id": "527837eb-5030-40ca-bd93-50b4f5c0717d",
   "metadata": {},
   "source": [
    "# 3) Define the elastic problem"
   ]
  },
  {
   "cell_type": "code",
   "execution_count": null,
   "id": "b21ac9fb-2c98-4dbb-8f15-85700a42c046",
   "metadata": {},
   "outputs": [],
   "source": [
    "V = dolfinx.fem.VectorFunctionSpace(domain,(\"Lagrange\", XXX),dim=XXXX)\n",
    "\n",
    "def eps(u):\n",
    "    return XXX.sym(ufl.grad(u))\n",
    "\n",
    "I2 = ufl.Identity(2)\n",
    "\n",
    "# Hooke's law is written as the top of this notebook\n",
    "def sigma(eps, E, nu):\n",
    "    mu = XXXX\n",
    "    lamb = XXXX\n",
    "    return lamb*ufl.tr(eps)*I2 + 2*mu*eps\n",
    "\n",
    "u = ufl.TrialFunction(V)\n",
    "u_bar = ufl.TestFunction(V)\n",
    "\n",
    "bilinear_form_inclusion = XXXX\n",
    "bilinear_form_matrix = XXXX\n",
    "bilinear_form = bilinear_form_inclusion + bilinear_form_matrix\n",
    "g=0.0 # no weight\n",
    "body_force = dolfinx.fem.Constant(domain, ScalarType((0,-g)))\n",
    "linear_form = ( ufl.dot(body_force,u_bar)  ) * ufl.dx"
   ]
  },
  {
   "cell_type": "markdown",
   "id": "8638c376-9751-497a-bf31-c26555b15973",
   "metadata": {},
   "source": [
    "# 4) Boundary condition"
   ]
  },
  {
   "cell_type": "code",
   "execution_count": null,
   "id": "67071be4-baa5-45d1-9ae4-cf7a8e5ba394",
   "metadata": {
    "tags": []
   },
   "outputs": [],
   "source": [
    "# this finds the label of the degree of freedom for the nodes on the boundary facets\n",
    "outer_facets = facet_tags.find(XXXX)\n",
    "print(\"tags:\", outer_facets)\n",
    "outer_boundary_dofs = dolfinx.fem.locate_dofs_topological(XXXX)\n",
    "print(\"dofs:\",outer_boundary_dofs)"
   ]
  },
  {
   "cell_type": "code",
   "execution_count": null,
   "id": "cc49cb22-6225-430f-a52b-3efa1a92dc49",
   "metadata": {},
   "outputs": [],
   "source": [
    "uD = dolfinx.fem.Function(V)\n",
    "u_on_boundary = lambda x: np.array([-x[1], -x[0]], dtype=ScalarType)\n",
    "uD.interpolate(u_on_boundary)\n",
    "bc = dolfinx.fem.dirichletbc(uD, XXXX)"
   ]
  },
  {
   "cell_type": "code",
   "execution_count": null,
   "id": "d15d3af9-8959-4c4b-ac92-c775fe2f68b4",
   "metadata": {},
   "outputs": [],
   "source": [
    "problem = dolfinx.fem.petsc.LinearProblem(XXX, XXX, bcs=[bc], \n",
    "                                          petsc_options={\"ksp_type\": \"preonly\", \"pc_type\": \"lu\"})\n",
    "u_solution = problem.solve()"
   ]
  },
  {
   "cell_type": "markdown",
   "id": "17b1edeb-01b8-4d79-b0c9-7148b9bbb4a2",
   "metadata": {},
   "source": [
    "# 4.5) Plot the solution using pyvista"
   ]
  },
  {
   "cell_type": "code",
   "execution_count": null,
   "id": "3ebc7c11-004c-4ed6-bd54-5eaa498e4333",
   "metadata": {},
   "outputs": [],
   "source": [
    "# Create pyvista grid\n",
    "topology, cells, geometry = dolfinx.plot.create_vtk_mesh(u_solution.function_space)\n",
    "function_grid = pyvista.UnstructuredGrid(topology, cells, geometry)\n",
    "\n",
    "plotter = pyvista.Plotter() # create plotter\n",
    "\n",
    "# we add the mesh to the plot #grid is defined above\n",
    "plotter.add_mesh(function_grid, show_edges=True, style=\"wireframe\", color=\"k\")\n",
    "\n",
    "# add the deformed shape\n",
    "values = np.zeros((geometry.shape[0], 3))\n",
    "values[:, :len(u_solution)] = u_solution.x.array.reshape(geometry.shape[0], len(u_solution))\n",
    "function_grid[\"u\"] = values\n",
    "function_grid.set_active_vectors(\"u\")\n",
    "warped = function_grid.warp_by_vector(\"u\", factor=0.62) # Warp mesh by deformation\n",
    "plotter.add_mesh(warped) # we add the deformed shape to the plot\n",
    "\n",
    "# we display the plot with axes and grid\n",
    "plotter.show_axes()\n",
    "plotter.view_xy()\n",
    "plotter.show_bounds(grid='front', location='outer', all_edges=True)\n",
    "plotter.show()"
   ]
  },
  {
   "cell_type": "markdown",
   "id": "b62defb9-a984-4941-8dcf-f3c63a07eb83",
   "metadata": {},
   "source": [
    "# 5) Export xdmf file and open it in Paraview"
   ]
  },
  {
   "cell_type": "code",
   "execution_count": null,
   "id": "def6d217-3ca6-4e07-925d-8d5fbe78a697",
   "metadata": {},
   "outputs": [],
   "source": [
    "# To have a name in Paraview\n",
    "u_solution.name = \"displacement_vector\""
   ]
  },
  {
   "cell_type": "code",
   "execution_count": null,
   "id": "e829fa30-2632-4fc6-872c-075ebe6bee32",
   "metadata": {},
   "outputs": [],
   "source": [
    "# We export the mesh+solution to see it on Paraview\n",
    "with dolfinx.io.XDMFFile(XXXX) as file:\n",
    "    file.write_mesh(XXXX)\n",
    "    file.write_function(XXXX)"
   ]
  },
  {
   "cell_type": "markdown",
   "id": "7667d1bf-e9d3-443b-8fcb-4f3ce1a7c10a",
   "metadata": {},
   "source": [
    "# 6) Compute the L2-norm of the solution"
   ]
  },
  {
   "cell_type": "markdown",
   "id": "7264277f-985c-49d1-8397-348493c8d4a1",
   "metadata": {},
   "source": [
    "$ L^2_\\text{norm} = \\sqrt{\\int_\\Omega u^2 dx}$"
   ]
  },
  {
   "cell_type": "code",
   "execution_count": null,
   "id": "fb4e1993-35d8-4267-bd47-9284e8f3c663",
   "metadata": {},
   "outputs": [],
   "source": [
    "# L2-norm of the solution\n",
    "print('We compute the L2-norm of the solution')\n",
    "print('For E_m = 0.8 , nu_m = 0.35 , E_i = 11.0 , nu_i = 0.3, R_i =1, R_e = 6.9, aspect_ratio = 1.0 , mesh_size = R_i/5, mesh_order = 1 ')\n",
    "print('this norm should be equal to ~ 59')\n",
    "np.sqrt( dolfinx.fem.assemble_scalar(XXXX) )"
   ]
  },
  {
   "cell_type": "code",
   "execution_count": null,
   "id": "db576836-984d-45e7-bdb8-6fe56f349487",
   "metadata": {},
   "outputs": [],
   "source": [
    "# On the diagonal x=y, u ~ -(x,x)*Emat/Einc in the inclusion\n",
    "extract.solution(domain, u_solution, 0.2, 0.2)"
   ]
  },
  {
   "cell_type": "code",
   "execution_count": null,
   "id": "54db1131-ca2e-4f7a-b223-ab626440cd9a",
   "metadata": {},
   "outputs": [],
   "source": [
    "# On the diagonal x=y, u ~ -(x,x) in the matrix\n",
    "extract.solution(domain, u_solution, 3.1, 3.1)"
   ]
  },
  {
   "cell_type": "markdown",
   "id": "5ffd0a9b-c3c9-40fc-a20e-f60264655b9f",
   "metadata": {},
   "source": [
    "## 6.1) In the circular case, here is the analytical solution"
   ]
  },
  {
   "cell_type": "code",
   "execution_count": null,
   "id": "7d3652eb-49b4-402b-ad91-5740f733472c",
   "metadata": {},
   "outputs": [],
   "source": [
    "from eshelby import EshelbyDisk\n",
    "solution = EshelbyDisk(V,R_e/R_i, E_i/E_m, nu_i, nu_m)\n",
    "u_ref_func = solution.to_function(R_i)"
   ]
  },
  {
   "cell_type": "code",
   "execution_count": null,
   "id": "64eb8e8a-5612-4894-8e72-d75184132a95",
   "metadata": {},
   "outputs": [],
   "source": [
    "# analytical solution\n",
    "extract.solution(domain, u_ref_func, 0.2, 0.2)"
   ]
  },
  {
   "cell_type": "code",
   "execution_count": null,
   "id": "351b5bb2-2ddd-4091-af3c-b34362ab21c9",
   "metadata": {},
   "outputs": [],
   "source": [
    "# FEM solution\n",
    "extract.solution(domain, u_solution, 3.1, 3.1)"
   ]
  },
  {
   "cell_type": "code",
   "execution_count": null,
   "id": "2e474724-fa3d-45c4-b368-7c59c05d152f",
   "metadata": {},
   "outputs": [],
   "source": [
    "# Are they equal? Why?"
   ]
  },
  {
   "cell_type": "markdown",
   "id": "c5f0150b-acd9-4c0a-b48d-bb077d9bafdb",
   "metadata": {},
   "source": [
    "# 7) Compute the strain tensor of the solution"
   ]
  },
  {
   "cell_type": "code",
   "execution_count": null,
   "id": "d60ba806-bfc9-4b89-8612-8f7993879fef",
   "metadata": {},
   "outputs": [],
   "source": [
    "# We compute the strain tensor of the solution\n",
    "eps_solution = eps(u_solution)"
   ]
  },
  {
   "cell_type": "markdown",
   "id": "2b14d5ab-da3c-4f1c-9371-16e95e95eb47",
   "metadata": {},
   "source": [
    "## Evaluating $ \\epsilon_{ij} $"
   ]
  },
  {
   "cell_type": "code",
   "execution_count": null,
   "id": "cdbed5e9-ccd3-4e12-9ed1-f05aa2563af1",
   "metadata": {},
   "outputs": [],
   "source": [
    "V_eps = dolfinx.fem.FunctionSpace(domain,(\"XXX\", 0))"
   ]
  },
  {
   "cell_type": "code",
   "execution_count": null,
   "id": "2dcb5c60-716e-4c7f-96f0-1dd19dc57428",
   "metadata": {},
   "outputs": [],
   "source": [
    "eps_xx_expr = dolfinx.fem.Expression(eps_solution[0,0], XXXX)\n",
    "eps_xx = dolfinx.fem.Function(XXXX)\n",
    "eps_xx.interpolate(XXXX)"
   ]
  },
  {
   "cell_type": "code",
   "execution_count": null,
   "id": "b2fcaa97-026e-4c3b-9b33-54b736f65db0",
   "metadata": {},
   "outputs": [],
   "source": [
    "# This should send back the strain at point (0.1,0.2)\n",
    "extract.solution(domain, eps_xx, 0.1, 0.2)"
   ]
  },
  {
   "cell_type": "code",
   "execution_count": null,
   "id": "c13b9ca5-ae67-41a1-bd1d-203c69bf8e2b",
   "metadata": {},
   "outputs": [],
   "source": [
    "# Plot using pyvista or Paraview\n",
    "\n",
    "# Create pyvista grid\n",
    "topology, cells, geometry = dolfinx.plot.create_vtk_mesh(u_solution.function_space)\n",
    "function_grid = pyvista.UnstructuredGrid(topology, cells, geometry)\n",
    "\n",
    "plotter = pyvista.Plotter() # create plotter\n",
    "\n",
    "# Add eps_xx(x,y)\n",
    "function_grid[\"eps_xx\"] = XXXX\n",
    "plotter.add_mesh(function_grid, show_edges=True)\n",
    "\n",
    "# we display the plot with axes and grid\n",
    "plotter.show_axes()\n",
    "plotter.view_xy()\n",
    "plotter.show_bounds(grid='front', location='outer', all_edges=True)\n",
    "plotter.show()"
   ]
  },
  {
   "cell_type": "markdown",
   "id": "dd842423-fff2-4ba5-9edd-a2ca9e9145be",
   "metadata": {},
   "source": [
    "# 8) Do the same for $ \\epsilon_{xy} $ and $ \\epsilon_{yy} $ and "
   ]
  },
  {
   "cell_type": "code",
   "execution_count": null,
   "id": "468b8cff-9301-495c-a39b-e102d4c3cbaa",
   "metadata": {},
   "outputs": [],
   "source": [
    "eps_xy_expr = XXXX\n",
    "eps_xy = XXXX\n",
    "eps_xy.interpolate(XXXX)"
   ]
  },
  {
   "cell_type": "code",
   "execution_count": null,
   "id": "db420d51-5687-4665-82ef-0d727112a8f9",
   "metadata": {},
   "outputs": [],
   "source": [
    "extract.solution(domain, eps_xy, 0.5, 0.3)"
   ]
  },
  {
   "cell_type": "code",
   "execution_count": null,
   "id": "b173fb04-9206-4c15-9485-15234ac5111b",
   "metadata": {},
   "outputs": [],
   "source": [
    "# In the limit of a very large matrix, in the case of a circular inclusion, eps_xy(x,y) should be equal to\n",
    "mu_m = E_m/(2*(1+nu_m))\n",
    "mu_i = E_i/(2*(1+nu_i))\n",
    "q = (3-4*nu_m)/(8*mu_m*(1-nu_m))\n",
    "b = 1/(1+2*q*(mu_i-mu_m))\n",
    "print('eps_xy_inclusion = ',-b)\n",
    "# is it the case?"
   ]
  },
  {
   "cell_type": "code",
   "execution_count": null,
   "id": "3e8415f7-fe0c-46cd-a77a-b46399f0221c",
   "metadata": {},
   "outputs": [],
   "source": [
    "# Plot using pyvista or Paraview\n",
    "\n",
    "# Create pyvista grid\n",
    "topology, cells, geometry = dolfinx.plot.create_vtk_mesh(u_solution.function_space)\n",
    "function_grid = pyvista.UnstructuredGrid(topology, cells, geometry)\n",
    "\n",
    "plotter = pyvista.Plotter() # create plotter\n",
    "\n",
    "# add eps_xy(x,y)\n",
    "function_grid[\"eps_xy\"] = XXXX\n",
    "plotter.add_mesh(function_grid, show_edges=True)\n",
    "\n",
    "# we display the plot with axes and grid\n",
    "plotter.show_axes()\n",
    "plotter.view_xy()\n",
    "plotter.show_bounds(grid='front', location='outer', all_edges=True)\n",
    "plotter.show()"
   ]
  },
  {
   "cell_type": "code",
   "execution_count": null,
   "id": "dbcebcc6-0f01-4ca9-b477-c7c5b3231c9c",
   "metadata": {},
   "outputs": [],
   "source": [
    "eps_yy_expr = XXXX\n",
    "eps_yy = XXXX\n",
    "eps_yy.interpolate(XXXX)"
   ]
  },
  {
   "cell_type": "code",
   "execution_count": null,
   "id": "34caf7e4-bca1-4c33-a0e7-adb79baf1c82",
   "metadata": {},
   "outputs": [],
   "source": [
    "extract.solution(domain, eps_yy, 2.5, 1.1)"
   ]
  },
  {
   "cell_type": "code",
   "execution_count": null,
   "id": "84843372-3fbc-4bc4-b21e-aa478bb571f8",
   "metadata": {},
   "outputs": [],
   "source": [
    "# Plot using pyvista or Paraview\n",
    "\n",
    "# Create pyvista grid\n",
    "topology, cells, geometry = dolfinx.plot.create_vtk_mesh(u_solution.function_space)\n",
    "function_grid = pyvista.UnstructuredGrid(topology, cells, geometry)\n",
    "\n",
    "plotter = pyvista.Plotter() # create plotter\n",
    "\n",
    "# add eps_yy(x,y)\n",
    "function_grid[\"eps_yy\"] = XXXX\n",
    "plotter.add_mesh(function_grid, show_edges=True)\n",
    "\n",
    "# we display the plot with axes and grid\n",
    "plotter.show_axes()\n",
    "plotter.view_xy()\n",
    "plotter.show_bounds(grid='front', location='outer', all_edges=True)\n",
    "plotter.show()"
   ]
  },
  {
   "cell_type": "markdown",
   "id": "500c96ac-7b9a-49c9-ba73-b03b5c1b2c1f",
   "metadata": {},
   "source": [
    "# 9) Compute mean values over entire domain"
   ]
  },
  {
   "cell_type": "markdown",
   "id": "3d00aea2-785a-4129-a32a-a142dfaf6fdd",
   "metadata": {},
   "source": [
    "\\begin{equation}\n",
    "<\\varepsilon_{ij}> = \\frac{\\int_\\Omega \\varepsilon_{ij} \\,\\mathrm{d}x}{ \\int_\\Omega dx }\n",
    "\\end{equation}"
   ]
  },
  {
   "cell_type": "code",
   "execution_count": null,
   "id": "c1cc751b-48a4-484d-8c1a-686861052806",
   "metadata": {},
   "outputs": [],
   "source": [
    "dolfinx.fem.assemble_xxx / area_domain"
   ]
  },
  {
   "cell_type": "code",
   "execution_count": null,
   "id": "ac221fe9-fa22-4722-8d58-a24ae1d12302",
   "metadata": {},
   "outputs": [],
   "source": [
    "dolfinx.fem.assemble_xxx / area_domain"
   ]
  },
  {
   "cell_type": "code",
   "execution_count": null,
   "id": "d790aeac-eeaf-4b89-8361-8b078a7b19c9",
   "metadata": {},
   "outputs": [],
   "source": [
    "dolfinx.fem.assemble_xxx / area_domain"
   ]
  },
  {
   "cell_type": "markdown",
   "id": "87847e36-cfc1-4e6b-af11-5efc6e7f6fc0",
   "metadata": {},
   "source": [
    "# 9.1) Compute mean values over inclusion"
   ]
  },
  {
   "cell_type": "code",
   "execution_count": null,
   "id": "ebaacb0e-d1d2-451b-979d-e8fc048ab026",
   "metadata": {},
   "outputs": [],
   "source": [
    "mean_eps_xx = dolfinx.fem.assemble_xxx / area_inclusion"
   ]
  },
  {
   "cell_type": "code",
   "execution_count": null,
   "id": "0e8acb8f-79a9-446a-9995-5d801505517e",
   "metadata": {},
   "outputs": [],
   "source": [
    "mean_eps_xy = dolfinx.fem.assemble_xxx / area_inclusion"
   ]
  },
  {
   "cell_type": "markdown",
   "id": "fa514ef5-6790-43d3-8441-eff851dacebc",
   "metadata": {},
   "source": [
    "## How does this mean value change when the ratio $E_{incl}/E_{mat}$ is changing ?"
   ]
  },
  {
   "cell_type": "code",
   "execution_count": null,
   "id": "e34a8bdf-fcce-4178-b5fb-fce818a5b83e",
   "metadata": {},
   "outputs": [],
   "source": [
    "mean_eps_yy = dolfinx.fem.assemble_xxx / area_inclusion"
   ]
  },
  {
   "cell_type": "markdown",
   "id": "0855f904-9893-4698-8194-be4c0c0413b7",
   "metadata": {},
   "source": [
    "# 9.2) Compute mean values over matrix"
   ]
  },
  {
   "cell_type": "code",
   "execution_count": null,
   "id": "337192cd-730d-412e-b26d-ce8709231601",
   "metadata": {},
   "outputs": [],
   "source": [
    "dolfinx.fem.assemble_scalar(dolfinx.fem.form(eps_xx * dx(2))) / area_matrix"
   ]
  },
  {
   "cell_type": "code",
   "execution_count": null,
   "id": "32a161e4-71df-490f-80c9-4037eeeb3172",
   "metadata": {},
   "outputs": [],
   "source": [
    "dolfinx.fem.assemble_scalar(dolfinx.fem.form(eps_xy * dx(2))) / area_matrix"
   ]
  },
  {
   "cell_type": "code",
   "execution_count": null,
   "id": "93c21023-45a5-43f0-8646-8dd33de99a2c",
   "metadata": {},
   "outputs": [],
   "source": [
    "dolfinx.fem.assemble_scalar(dolfinx.fem.form(eps_yy * dx(2))) / area_matrix"
   ]
  },
  {
   "cell_type": "markdown",
   "id": "73edd2aa-d7bc-4e04-8027-66f5ae65d0ca",
   "metadata": {
    "tags": []
   },
   "source": [
    "# 9.5) Compute the deviation from uniformity inside inclusion"
   ]
  },
  {
   "cell_type": "markdown",
   "id": "4d1cffee-a69e-48eb-a9d4-f4d7f52d6c75",
   "metadata": {},
   "source": [
    "\\begin{equation}\n",
    "deviation = \\frac{\\int_\\Omega Abs(\\varepsilon_{ij} - <\\varepsilon_{ij}>) \\,\\mathrm{d}x }{ <\\varepsilon_{ij}> }\n",
    "\\end{equation}"
   ]
  },
  {
   "cell_type": "markdown",
   "id": "6f78722e-08f7-46bc-ba2d-b594c2d478e8",
   "metadata": {
    "tags": []
   },
   "source": [
    "### eps_xx"
   ]
  },
  {
   "cell_type": "code",
   "execution_count": null,
   "id": "0b0c38d5-e7ea-4a93-bd64-5b1123308db1",
   "metadata": {},
   "outputs": [],
   "source": [
    "print(mean_eps_xx)"
   ]
  },
  {
   "cell_type": "code",
   "execution_count": null,
   "id": "8c2b8827-ae22-4842-86db-c67337f1004d",
   "metadata": {},
   "outputs": [],
   "source": [
    "# Explain / comment the result\n",
    "deviation_xx = dolfinx.fem.assemble_XXX / mean_eps_xx"
   ]
  },
  {
   "cell_type": "markdown",
   "id": "c3347e62-dc0c-479f-9b61-ce45a7bcef38",
   "metadata": {
    "tags": []
   },
   "source": [
    "### eps_xy"
   ]
  },
  {
   "cell_type": "code",
   "execution_count": null,
   "id": "e902e00a-c2b7-4fbd-92af-146e6cd698e3",
   "metadata": {},
   "outputs": [],
   "source": [
    "print(mean_eps_xy) "
   ]
  },
  {
   "cell_type": "code",
   "execution_count": null,
   "id": "10c098ac-7b76-4ec2-bacf-5f12c56bcf6e",
   "metadata": {},
   "outputs": [],
   "source": [
    "# Explain / comment the result\n",
    "deviation_xy = dolfinx.fem.assemble_XXX / mean_eps_xy"
   ]
  },
  {
   "cell_type": "markdown",
   "id": "738e68e7-7773-4878-a0cc-6be243a68444",
   "metadata": {
    "tags": []
   },
   "source": [
    "### eps_yy"
   ]
  },
  {
   "cell_type": "code",
   "execution_count": null,
   "id": "55f5dd0f-5e4b-488a-8481-a2703b4d98aa",
   "metadata": {},
   "outputs": [],
   "source": [
    "print(mean_eps_yy) "
   ]
  },
  {
   "cell_type": "code",
   "execution_count": null,
   "id": "7caf4eca-feda-4db7-82f4-71492f351831",
   "metadata": {},
   "outputs": [],
   "source": [
    "# Explain / comment the result\n",
    "deviation_yy = dolfinx.fem.assemble_XXX / mean_eps_yy"
   ]
  },
  {
   "cell_type": "markdown",
   "id": "ad20ff24-3eef-4718-a9b5-a0def23155e9",
   "metadata": {},
   "source": [
    "# 11) Plot u_y(x,0) using mathplotlib"
   ]
  },
  {
   "cell_type": "markdown",
   "id": "fab5d0e7-61b0-4efd-9ff1-054afa7400df",
   "metadata": {
    "tags": []
   },
   "source": [
    "# 12) Convergence study"
   ]
  },
  {
   "cell_type": "markdown",
   "id": "df214867-f222-440e-9aa8-ffb9ed7d86f1",
   "metadata": {},
   "source": [
    "## How does the error decrease when the mesh size decreases?"
   ]
  },
  {
   "cell_type": "markdown",
   "id": "ba4e5996-78fa-4770-9a5b-7654a2684c90",
   "metadata": {},
   "source": [
    "## If the mesh size is divided by 2, is the error divided by 2 also?"
   ]
  },
  {
   "cell_type": "markdown",
   "id": "2020de51-60a9-4456-94d0-93b7b784ce7d",
   "metadata": {},
   "source": [
    "## Do the convergence exponents change when the inclusion is elliptical?"
   ]
  },
  {
   "cell_type": "markdown",
   "id": "81bfaeb4-4997-428c-846f-75b2ae14946d",
   "metadata": {},
   "source": [
    "# 13) Nondimensionalization"
   ]
  },
  {
   "cell_type": "markdown",
   "id": "d1f9036f-98a9-4ab8-b05c-c638196a9dac",
   "metadata": {},
   "source": [
    "## As usal for statics problems, we can freely choose a length unit, and a force unit.\n",
    "\n",
    "## Here we choose the length unit to be $R_i$, that is we set $R_i=1$.\n",
    "## We choose the 'force' unit to be $E_m$, that is we set $E_m=1$.\n"
   ]
  },
  {
   "cell_type": "markdown",
   "id": "83248de8-8cf7-4f13-93e1-33cbf7cc6478",
   "metadata": {},
   "source": [
    "## 13.1) We have set $R_e=6.9$ in our FEM computations. If, in the real world, the inclusion has radius $R_i=200$ microns, our FEM computations correspond to a matrix of which size? (6.9 microns, 6.9km, or 1.38 mm, or ... ?)"
   ]
  },
  {
   "cell_type": "markdown",
   "id": "f7db1693-632f-43ba-bab3-bd2db77bd9ec",
   "metadata": {},
   "source": [
    "## 13.2) We have set $E_i = 11$ in our FEM computations. If, in the real world, the matrix has $E_m= 1.2$ GPa, our FEM computations correspond to an inclusion with which Young modulus? (11 GPa, or 13.2 GPa, ... ?)"
   ]
  },
  {
   "cell_type": "code",
   "execution_count": null,
   "id": "5a975ccb-2f13-4271-b62a-be2c2a2876eb",
   "metadata": {},
   "outputs": [],
   "source": []
  },
  {
   "cell_type": "code",
   "execution_count": null,
   "id": "94ec2225-290d-45d5-a95f-72cdcb7a3053",
   "metadata": {},
   "outputs": [],
   "source": []
  },
  {
   "cell_type": "code",
   "execution_count": null,
   "id": "7e4b138b-d7da-4203-9a76-e87d57aab522",
   "metadata": {},
   "outputs": [],
   "source": []
  },
  {
   "cell_type": "code",
   "execution_count": null,
   "id": "366ace4a-a2bc-4d52-9e6f-2560f328abad",
   "metadata": {},
   "outputs": [],
   "source": []
  }
 ],
 "metadata": {
  "kernelspec": {
   "display_name": "Python 3 (ipykernel)",
   "language": "python",
   "name": "python3"
  },
  "language_info": {
   "codemirror_mode": {
    "name": "ipython",
    "version": 3
   },
   "file_extension": ".py",
   "mimetype": "text/x-python",
   "name": "python",
   "nbconvert_exporter": "python",
   "pygments_lexer": "ipython3",
   "version": "3.10.6"
  },
  "vscode": {
   "interpreter": {
    "hash": "d39b9f02f3029832ecae234ec2fa182456444dbf6b139312bec596c8a27da32a"
   }
  }
 },
 "nbformat": 4,
 "nbformat_minor": 5
}
